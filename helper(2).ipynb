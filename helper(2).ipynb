{
 "cells": [
  {
   "cell_type": "code",
   "execution_count": 1,
   "metadata": {},
   "outputs": [],
   "source": [
    "import pickle\n",
    "import pandas as pd\n",
    "from matplotlib import pyplot as plt\n",
    "import numpy as np"
   ]
  },
  {
   "cell_type": "code",
   "execution_count": 2,
   "metadata": {},
   "outputs": [],
   "source": [
    "## This opens a *.pkl file\n",
    "\n",
    "def unpickle(filename):\n",
    "    with open(filename, \"rb\") as f:\n",
    "        data = pickle.load(f)\n",
    "    return data\n",
    "\n",
    "# this saves \"thing\" to a *.pkl file\n",
    "def to_pickle(thing, filename):\n",
    "    with open(filename, \"wb\") as f:\n",
    "        pickle.dump(thing, f)\n",
    "        f.close()"
   ]
  },
  {
   "cell_type": "code",
   "execution_count": 3,
   "metadata": {},
   "outputs": [
    {
     "name": "stdout",
     "output_type": "stream",
     "text": [
      "(10000, 12288)\n",
      "(10000,)\n",
      "<class 'dict'>\n"
     ]
    }
   ],
   "source": [
    "train = unpickle(\"train.pkl\")\n",
    "print(train[\"data\"].shape)\n",
    "print(train[\"label\"].shape)\n",
    "print(type(train))"
   ]
  },
  {
   "cell_type": "code",
   "execution_count": 4,
   "metadata": {},
   "outputs": [
    {
     "name": "stdout",
     "output_type": "stream",
     "text": [
      "DONE\n",
      "(2000, 12288)\n"
     ]
    }
   ],
   "source": [
    "test = unpickle(\"test.pkl\")\n",
    "print(\"DONE\")\n",
    "print(test['data'].shape)"
   ]
  },
  {
   "cell_type": "code",
   "execution_count": 5,
   "metadata": {},
   "outputs": [],
   "source": [
    "# label dictionary: this maps label integer to the name of the animal\n",
    "label2name = {1: 'dog',\n",
    "              2: 'rabbit',\n",
    "              3: 'deer',\n",
    "              4: 'elephant',\n",
    "              5: 'horse',\n",
    "              6: 'squirrel',\n",
    "              7: 'tiger',\n",
    "              8: 'wolf',\n",
    "              9: 'chimpanzee',\n",
    "              10: 'panda'}"
   ]
  },
  {
   "cell_type": "code",
   "execution_count": 6,
   "metadata": {
    "code_folding": []
   },
   "outputs": [],
   "source": [
    "# this plot one image given the image index\n",
    "def show_image(idx, train, label2name=label2name):\n",
    "    img = train[\"data\"][idx]\n",
    "    img = np.dstack((img[:4096], img[4096:8192], img[8192:])).reshape(64,64,3)\n",
    "    plt.imshow(img)\n",
    "    plt.title(label2name[train[\"label\"][idx]])\n",
    "    plt.show()"
   ]
  },
  {
   "cell_type": "code",
   "execution_count": 7,
   "metadata": {
    "code_folding": []
   },
   "outputs": [
    {
     "data": {
      "image/png": "[encoded data removed]",
      "text/plain": [
       "<Figure size 432x288 with 1 Axes>"
      ]
     },
     "metadata": {
      "needs_background": "light"
     },
     "output_type": "display_data"
    },
    {
     "name": "stdout",
     "output_type": "stream",
     "text": [
      "5\n"
     ]
    }
   ],
   "source": [
    "show_image(2, train)\n",
    "print(train[\"label\"][2])"
   ]
  },
  {
   "cell_type": "code",
   "execution_count": null,
   "metadata": {},
   "outputs": [],
   "source": []
  },
  {
   "cell_type": "code",
   "execution_count": 8,
   "metadata": {},
   "outputs": [
    {
     "name": "stdout",
     "output_type": "stream",
     "text": [
      "5\n",
      "[0. 0. 0. 0. 1. 0. 0. 0. 0. 0.]\n"
     ]
    }
   ],
   "source": [
    "### YOUR CODE HERE ###\n",
    "#Decision of \n",
    "import matplotlib.pyplot as plt\n",
    "\n",
    "from sklearn.preprocessing import OneHotEncoder\n",
    "# Your code\n",
    "j = OneHotEncoder()\n",
    "y_enc= train['label']\n",
    "y_enc = y_enc.reshape(-1, 1)\n",
    "#print(y_enc)\n",
    "j.fit(y_enc)\n",
    "y_enc_2 = j.transform(y_enc).toarray()\n",
    "y_enc = y_enc_2\n",
    "#print(y_enc)\n",
    "\n",
    "\n",
    "\n",
    "def plot_losses(hist):\n",
    "    plt.plot(hist.history['loss'])\n",
    "    plt.plot(hist.history['val_loss'])\n",
    "    plt.title('Model Loss')\n",
    "    plt.ylabel('Loss')\n",
    "    plt.xlabel('Epoch')\n",
    "    plt.legend(['Train', 'Val'])\n",
    "    plt.show()\n",
    "def plot_accuracies(hist):\n",
    "    plt.plot(hist.history['accuracy'])\n",
    "    plt.plot(hist.history['val_accuracy'])\n",
    "    plt.title('Model Accuracy')\n",
    "    plt.ylabel('Accuracy')\n",
    "    plt.xlabel('Epoch')\n",
    "    plt.legend(['Train', 'Val'])\n",
    "    plt.show()\n",
    "def plot_losses_no_val(hist):\n",
    "    plt.plot(hist.history['loss'])\n",
    "    #plt.plot(hist.history['val_loss'])\n",
    "    plt.title('Model Loss')\n",
    "    plt.ylabel('Loss')\n",
    "    plt.xlabel('Epoch')\n",
    "    plt.legend(['Train'])\n",
    "    plt.show()\n",
    "def plot_accuracies_no_val(hist):\n",
    "    plt.plot(hist.history['accuracy'])\n",
    "    #plt.plot(hist.history['val_accuracy'])\n",
    "    plt.title('Model Accuracy')\n",
    "    plt.ylabel('Accuracy')\n",
    "    plt.xlabel('Epoch')\n",
    "    plt.legend(['Train'])\n",
    "    plt.show()\n",
    "print(train['label'][2])\n",
    "print(y_enc[2])"
   ]
  },
  {
   "cell_type": "code",
   "execution_count": 9,
   "metadata": {},
   "outputs": [
    {
     "name": "stdout",
     "output_type": "stream",
     "text": [
      "(10000, 64, 64, 3)\n",
      "255\n",
      "(10000, 10)\n"
     ]
    }
   ],
   "source": [
    "#Reshape images\n",
    "reshaped = train['data']\n",
    "reshaped = reshaped.reshape(reshaped.shape[0], 64, 64, 3)\n",
    "print(reshaped.shape)\n",
    "print(np.max(reshaped))\n",
    "print(y_enc.shape)"
   ]
  },
  {
   "cell_type": "code",
   "execution_count": 10,
   "metadata": {},
   "outputs": [],
   "source": [
    "# Some stuff we'll need...\n",
    "from tensorflow.keras.layers import Input\n",
    "from tensorflow.keras.applications.resnet import ResNet50, preprocess_input\n",
    "from tensorflow.keras.preprocessing import image\n",
    "from tensorflow.keras.models import Model\n",
    "from keras.applications.resnet import ResNet50\n",
    "from keras.layers import GlobalMaxPooling2D,GlobalAveragePooling2D, BatchNormalization, Dropout\n",
    "from keras.layers.core import Dense, Dropout, Flatten\n"
   ]
  },
  {
   "cell_type": "code",
   "execution_count": null,
   "metadata": {},
   "outputs": [],
   "source": []
  },
  {
   "cell_type": "code",
   "execution_count": null,
   "metadata": {},
   "outputs": [],
   "source": []
  },
  {
   "cell_type": "code",
   "execution_count": 11,
   "metadata": {},
   "outputs": [
    {
     "name": "stdout",
     "output_type": "stream",
     "text": [
      "<class 'keras.engine.keras_tensor.KerasTensor'>\n",
      "(None, 1024)\n",
      "Model: \"model\"\n",
      "__________________________________________________________________________________________________\n",
      "Layer (type)                    Output Shape         Param #     Connected to                     \n",
      "==================================================================================================\n",
      "Total params: 27,803,530\n",
      "Trainable params: 27,746,314\n",
      "Non-trainable params: 57,216\n",
      "__________________________________________________________________________________________________\n",
      "(None, 1024)\n",
      "DONE\n",
      "Model: \"model\"\n",
      "__________________________________________________________________________________________________\n",
      "Layer (type)                    Output Shape         Param #     Connected to                     \n",
      "==================================================================================================\n",
      "Total params: 27,803,530\n",
      "Trainable params: 27,746,314\n",
      "Non-trainable params: 57,216\n",
      "__________________________________________________________________________________________________\n"
     ]
    }
   ],
   "source": [
    "# Import the ResNet50 trained neural network model, minus it's last (top) neuron layer.\n",
    "base_model = ResNet50(weights = 'imagenet', \n",
    "                   include_top = False, \n",
    "                   input_shape = (64, 64, 3), \n",
    "                   pooling = None)\n",
    "x = base_model.output\n",
    "print(type(x))\n",
    "# This freezes the weights of the pretrained model.\n",
    "for layer in base_model.layers:  \n",
    "    layer.trainable = True\n",
    "### YOUR CODE HERE ###\n",
    "from keras.layers import Conv1D\n",
    "\n",
    "#x = base_model.output\n",
    "#print(type(x))\n",
    "x = GlobalAveragePooling2D()(x)\n",
    "#print(type(x))\n",
    "#x = Dense(10, 'relu')(x)\n",
    "#out = Dense(10,activation='softmax')(x)\n",
    "#model_final = Model(base_model.input,out)\n",
    "#model_final.summary()\n",
    "\n",
    "                           \n",
    "x = Dropout(.5)(x)\n",
    "x = Dense(units = 1024,  activation = 'relu')(x)                 \n",
    "x = BatchNormalization()(x) \n",
    "print(x.get_shape())\n",
    "#model.add(Conv1D(32, 1, input_shape=128)) # 32 different 3x3 kernels -- so 32 feature maps\n",
    "\n",
    "#input_shape_conv = (4, 10, 128)\n",
    "x = Dropout(.5)(x)\n",
    "x = Dense(units = 1024, activation = 'relu')(x)\n",
    "x = BatchNormalization()(x) \n",
    "\n",
    "#x = tf.keras.layers.Conv1D(3, 3, activation='relu', input_shape = input_shape_conv)(x)\n",
    "x = Dense(units = 1024, activation = 'linear')(x)\n",
    "out = Dense(10,activation='softmax')(x)\n",
    "model_final = Model(base_model.input,out)\n",
    "model_final.summary()\n",
    "\n",
    "                           \n",
    "           \n",
    "#x = Dense(units = 1024,  activation = 'relu')(x)                 \n",
    "#x = BatchNormalization()(x) \n",
    "print(x.get_shape())\n",
    "#model.add(Conv1D(32, 1, input_shape=128)) # 32 different 3x3 kernels -- so 32 feature maps\n",
    "\n",
    "#input_shape_conv = (4, 10, 128)\n",
    "#x = Dense(units = 1024, activation = 'relu')(x)\n",
    "#x = BatchNormalization()(x) \n",
    "\n",
    "#x = tf.keras.layers.Conv1D(3, 3, activation='relu', input_shape = input_shape_conv)(x)\n",
    "#x = Dense(units = 1024, activation = 'linear')(x)\n",
    "#out = Dense(10,activation='softmax')(x)\n",
    "#model_final = Model(base_model.input,out)\n",
    "#model_final.summary()\n",
    "print(\"DONE\")\n",
    "model_final.summary()"
   ]
  },
  {
   "cell_type": "code",
   "execution_count": null,
   "metadata": {},
   "outputs": [],
   "source": []
  },
  {
   "cell_type": "code",
   "execution_count": null,
   "metadata": {},
   "outputs": [],
   "source": []
  },
  {
   "cell_type": "code",
   "execution_count": null,
   "metadata": {},
   "outputs": [
    {
     "name": "stdout",
     "output_type": "stream",
     "text": [
      "Model: \"model\"\n",
      "__________________________________________________________________________________________________\n",
      "Layer (type)                    Output Shape         Param #     Connected to                     \n",
      "==================================================================================================\n",
      "Total params: 27,803,530\n",
      "Trainable params: 27,746,314\n",
      "Non-trainable params: 57,216\n",
      "__________________________________________________________________________________________________\n",
      "Epoch 1/60\n",
      " 4/32 [==>...........................] - ETA: 8:00 - loss: 8.0206 - accuracy: 0.0859"
     ]
    }
   ],
   "source": [
    "### YOUR CODE HERE ##\n",
    "model_final.summary()\n",
    "model_final.compile(loss='categorical_crossentropy', optimizer = 'adam',\n",
    "              metrics=['accuracy'])\n",
    "\n",
    "hist = model_final.fit(reshaped, y_enc,\n",
    "                    epochs = 60, \n",
    "                   batch_size = 256,\n",
    "                    validation_split = 0.2,\n",
    "                    verbose = 1)\n",
    "\n",
    "\n",
    "print(\"done\")"
   ]
  },
  {
   "cell_type": "code",
   "execution_count": null,
   "metadata": {},
   "outputs": [],
   "source": [
    "plot_losses(hist)\n",
    "plot_accuracies(hist)"
   ]
  },
  {
   "cell_type": "code",
   "execution_count": null,
   "metadata": {},
   "outputs": [],
   "source": [
    "test_reshape = test['data']\n",
    "test_reshape = test_reshape.reshape(test_reshape.shape[0], 64, 64, 3)\n",
    "\n",
    "pred = model_final.predict(test_reshape) \n"
   ]
  },
  {
   "cell_type": "code",
   "execution_count": null,
   "metadata": {},
   "outputs": [],
   "source": [
    "print(np.argmax(pred, axis = 1)[:10] )\n",
    "print(train['label'][:10])\n",
    "\n",
    "real_pred = np.argmax(pred, axis=1)\n",
    "print(type(real_pred))\n",
    "df = pd.DataFrame(real_pred)\n",
    "print(df.to_csv('kaggle_predictions.csv'))"
   ]
  },
  {
   "cell_type": "code",
   "execution_count": null,
   "metadata": {},
   "outputs": [],
   "source": [
    "for x in range(len(real_pred)):\n",
    "    real_pred[x] += 1\n",
    "    "
   ]
  },
  {
   "cell_type": "code",
   "execution_count": null,
   "metadata": {},
   "outputs": [],
   "source": [
    "print(train['label'][:10])\n",
    "\n",
    "print(type(real_pred))\n",
    "df = pd.DataFrame(real_pred)\n",
    "print(df.to_csv('kaggle_predictions.csv'))"
   ]
  },
  {
   "cell_type": "code",
   "execution_count": null,
   "metadata": {},
   "outputs": [],
   "source": []
  }
 ],
 "metadata": {
  "kernelspec": {
   "display_name": "Python 3",
   "language": "python",
   "name": "python3"
  },
  "language_info": {
   "codemirror_mode": {
    "name": "ipython",
    "version": 3
   },
   "file_extension": ".py",
   "mimetype": "text/x-python",
   "name": "python",
   "nbconvert_exporter": "python",
   "pygments_lexer": "ipython3",
   "version": "3.8.5"
  }
 },
 "nbformat": 4,
 "nbformat_minor": 4
}
