{
  "nbformat": 4,
  "nbformat_minor": 0,
  "metadata": {
    "colab": {
      "provenance": [],
      "collapsed_sections": []
    },
    "kernelspec": {
      "display_name": "Python 3",
      "name": "python3"
    },
    "language_info": {
      "name": "python"
    }
  },
  "cells": [
    {
      "cell_type": "code",
      "metadata": {
        "colab": {
          "base_uri": "https://localhost:8080/"
        },
        "id": "t3j43gvoE7sd",
        "outputId": "82e011b9-5bb6-4495-e079-5c102d4b0e0e"
      },
      "source": [
        "from google.colab import drive\n",
        "drive.mount('/content/drive')"
      ],
      "execution_count": null,
      "outputs": [
        {
          "output_type": "stream",
          "name": "stdout",
          "text": [
            "Drive already mounted at /content/drive; to attempt to forcibly remount, call drive.mount(\"/content/drive\", force_remount=True).\n"
          ]
        }
      ]
    },
    {
      "cell_type": "code",
      "metadata": {
        "colab": {
          "base_uri": "https://localhost:8080/"
        },
        "id": "OfrnF4vVIbd-",
        "outputId": "d9e2065d-1aca-4297-9628-8881977af709"
      },
      "source": [
        "import pandas as pd\n",
        "df = pd.read_csv('/content/drive/Shareddrives/CSE 145 Project/train.csv')\n",
        "print(df.shape)\n",
        "df_test = pd.read_csv('/content/drive/Shareddrives/CSE 145 Project/test.csv')\n",
        "print(df_test.shape)\n",
        "\n",
        "# data cleansing...\n",
        "print(df.shape)\n",
        "y_col_name = df.columns[-1]\n",
        "y = df.iloc[:, -1] # sale price column\n",
        "\n"
      ],
      "execution_count": null,
      "outputs": [
        {
          "output_type": "stream",
          "name": "stdout",
          "text": [
            "(1460, 81)\n",
            "(1459, 80)\n",
            "(1460, 81)\n"
          ]
        }
      ]
    },
    {
      "cell_type": "code",
      "metadata": {
        "colab": {
          "base_uri": "https://localhost:8080/"
        },
        "id": "cEgr_IwoTdYx",
        "outputId": "65476660-cd25-412b-c8b4-9add2269e4c9"
      },
      "source": [
        "print(df.shape)\n",
        "df_no_id = df.iloc[:,1:]\n",
        "print(df_no_id.shape)\n"
      ],
      "execution_count": null,
      "outputs": [
        {
          "output_type": "stream",
          "name": "stdout",
          "text": [
            "(1460, 81)\n",
            "(1460, 80)\n"
          ]
        }
      ]
    },
    {
      "cell_type": "code",
      "metadata": {
        "id": "xG4McdbvYqtG"
      },
      "source": [
        "import sklearn\n",
        "int_range = [*range(80)]\n",
        "no_ints = [2,5,6,7,8,9,10,11,12,13,14,15,16,21,22,23,24,25,27,28,29,30,31,32,33,35,39,40,41,42,53,55,57,58,60,63,64,65,72,73,74,78,79]\n",
        "for x in no_ints:\n",
        "    try:\n",
        "        int_range.remove(x)\n",
        "    except:\n",
        "        continue\n",
        "int_range.remove(0)\n",
        "df_no_ints = df.iloc[:,[2,5,6,7,8,9,10,11,12,13,14,15,16,21,22,23,24,25,27,28,29,30,31,32,33,35,39,40,41,42,53,55,57,58,60,63,64,65,72,73,74,78,79]]\n",
        "df_no_ints_test = df_test.iloc[:,[2,5,6,7,8,9,10,11,12,13,14,15,16,21,22,23,24,25,27,28,29,30,31,32,33,35,39,40,41,42,53,55,57,58,60,63,64,65,72,73,74,78,79]]\n",
        "\n",
        "df_ints = df.iloc[:,int_range]\n",
        "df_ints_test = df_test.iloc[:,int_range]\n",
        "\n",
        "no_int_cols = df.columns[no_ints]\n",
        "int_cols = df.columns[int_range]"
      ],
      "execution_count": null,
      "outputs": []
    },
    {
      "cell_type": "code",
      "metadata": {
        "colab": {
          "base_uri": "https://localhost:8080/"
        },
        "id": "LmBWOApzJwqW",
        "outputId": "262214b0-846f-4d15-e1ed-23a5721e0ad8"
      },
      "source": [
        "#Ints last all features not including Y\n",
        "df_ordered = df_no_ints.append(df_ints)\n",
        "df_ordered_test = df_no_ints_test.append(df_ints_test)\n",
        "\n",
        "df_Y = df.iloc[:,80]\n",
        "print(df_Y.iloc[0])"
      ],
      "execution_count": null,
      "outputs": [
        {
          "output_type": "stream",
          "name": "stdout",
          "text": [
            "208500\n"
          ]
        }
      ]
    },
    {
      "cell_type": "code",
      "metadata": {
        "colab": {
          "base_uri": "https://localhost:8080/"
        },
        "id": "L-gQjSHlKxfh",
        "outputId": "c154f140-2922-4e14-b09a-963ebb0cfd34"
      },
      "source": [
        " from sklearn.preprocessing import OneHotEncoder\n",
        " from sklearn.preprocessing import OrdinalEncoder\n",
        " from sklearn.preprocessing import LabelEncoder\n",
        " import numpy as np\n",
        " \n",
        "\n",
        "\n",
        " no_ints_arr = df_no_ints.to_numpy()\n",
        " no_ints_arr_test = df_no_ints_test.to_numpy()\n",
        "\n",
        " print(type(no_ints_arr[0][2]))\n",
        " no_ints_arr = np.nan_to_num(no_ints_arr, True, 0.0, None, None)\n",
        " no_ints_arr_test = np.nan_to_num(no_ints_arr_test, True, 0.0, None, None) \n",
        "#  no_ints_list = no_ints_arr.tolist()\n",
        "#  print(no_ints_arr.shape)\n",
        "#  print(no_ints_arr[0,0])\n",
        "#  print(no_ints_list)\n",
        "#  ordinal_encoder = OrdinalEncoder()\n",
        "#  df_try = df_no_ints[['Alley','Fence']]\n",
        "#  ordinal_encoder.fit(df_try)\n",
        "#  enc_X = ordinal_encoder.transform(df_try)\n",
        "\n",
        "\n",
        "\n",
        " for x in range(no_ints_arr.shape[0]):\n",
        "     for y in range(no_ints_arr.shape[1]):\n",
        "         if(type(no_ints_arr[x][y]) == float or type(df_no_ints.iloc[x][y]) == int):\n",
        "             no_ints_arr[x][y] = \"NOT_HERE\"\n",
        "for x in range(no_ints_arr_test.shape[0]):\n",
        "   for y in range(no_ints_arr_test.shape[1]):\n",
        "       if(type(no_ints_arr_test[x][y]) == float or type(df_no_ints_test.iloc[x][y]) == int):\n",
        "           no_ints_arr_test[x][y] = \"NOT_HERE\"             \n",
        "\n",
        "for x in range(df_no_ints.shape[0]):\n",
        "   for y in range(df_no_ints.shape[1]):\n",
        "       if(type(df_no_ints.iloc[x][y]) == float or type(df_no_ints.iloc[x][y]) == int):\n",
        "           df_no_ints.iloc[x][y] = \"NOT_HERE\"\n",
        "\n",
        "\n",
        "for x in range(df_no_ints_test.shape[0]):\n",
        "    for y in range(df_no_ints_test.shape[1]):\n",
        "        if(type(df_no_ints_test.iloc[x][y]) == float or type(df_no_ints_test.iloc[x][y]) == int):\n",
        "            df_no_ints_test.iloc[x][y] = \"NOT_HERE\"\n",
        "\n",
        " print(no_ints_arr.shape)\n",
        " print(no_ints_arr_test)\n"
      ],
      "execution_count": null,
      "outputs": [
        {
          "output_type": "stream",
          "name": "stdout",
          "text": [
            "<class 'float'>\n",
            "(1460, 43)\n",
            "[['RH' 'Pave' 'NOT_HERE' ... 'NOT_HERE' 'WD' 'Normal']\n",
            " ['RL' 'Pave' 'NOT_HERE' ... 'Gar2' 'WD' 'Normal']\n",
            " ['RL' 'Pave' 'NOT_HERE' ... 'NOT_HERE' 'WD' 'Normal']\n",
            " ...\n",
            " ['RL' 'Pave' 'NOT_HERE' ... 'NOT_HERE' 'WD' 'Abnorml']\n",
            " ['RL' 'Pave' 'NOT_HERE' ... 'Shed' 'WD' 'Normal']\n",
            " ['RL' 'Pave' 'NOT_HERE' ... 'NOT_HERE' 'WD' 'Normal']]\n"
          ]
        }
      ]
    },
    {
      "cell_type": "code",
      "metadata": {
        "colab": {
          "base_uri": "https://localhost:8080/"
        },
        "id": "wGydOBvVaX1c",
        "outputId": "f81ad074-f709-4667-b70f-2e0481c8941b"
      },
      "source": [
        "print(df_ints.shape)"
      ],
      "execution_count": null,
      "outputs": [
        {
          "output_type": "stream",
          "name": "stdout",
          "text": [
            "(1460, 36)\n"
          ]
        }
      ]
    },
    {
      "cell_type": "code",
      "metadata": {
        "id": "LPGpP3OhT4i-"
      },
      "source": [
        "\n",
        "ordinal_encoder = OrdinalEncoder()\n",
        "ordinal_encoder.fit(df_no_ints)\n",
        "no_ints_2 = ordinal_encoder.transform(df_no_ints)\n",
        "\n",
        "ordinal_encoder.fit(df_no_ints_test)\n",
        "no_ints_2_test = ordinal_encoder.transform(df_no_ints_test)\n",
        "# one_hot = OneHotEncoder()\n",
        "# one_hot.fit(df_no_ints)\n",
        "# no_ints_2 = one_hot.transform(df_no_ints)\n",
        "# print(no_ints_2.shape)"
      ],
      "execution_count": null,
      "outputs": []
    },
    {
      "cell_type": "code",
      "metadata": {
        "id": "UtZnNF51kMVu"
      },
      "source": [
        "#enc.fit(df_no_ints)\n",
        "#hot_encoder = OneHotEncoder()\n",
        "#hot_encoder.fit(df_no_ints)\n",
        "#print(df_no_ints.shape)\n",
        "#no_ints_2 = hot_encoder.transform(df_no_ints).toarray()\n",
        "#print(no_ints_2.shape)\n",
        "#print(no_ints_2[10])"
      ],
      "execution_count": null,
      "outputs": []
    },
    {
      "cell_type": "code",
      "metadata": {
        "id": "dpbPh4DFvkfc"
      },
      "source": [
        "#enc.fit(df_no_ints)\n",
        "#label_encoder = LabelEncoder()\n",
        "#label_encoder.fit(df_no_ints)\n",
        "#print(df_no_ints.shape)\n",
        "#no_ints_2 = label_encoder.transform(df_no_ints).toarray()\n",
        "#print(no_ints_2.shape)\n",
        "#print(no_ints_2[10])\n",
        "# print(ints_arr.shape)\n",
        "# print(no_ints_2.shape)"
      ],
      "execution_count": null,
      "outputs": []
    },
    {
      "cell_type": "code",
      "metadata": {
        "colab": {
          "base_uri": "https://localhost:8080/"
        },
        "id": "PYxw2Fz0UHUE",
        "outputId": "dcfad512-9e1b-40dc-c789-bb407b0b56c7"
      },
      "source": [
        "#df_ordered_2 = df_no_ints_2.append(df_ints)\n",
        "ints_arr = df_ints.to_numpy()\n",
        "ints_arr_test = df_ints_test.to_numpy()\n",
        "for x in range(ints_arr.shape[0]):\n",
        "    for y in range(ints_arr.shape[1]):\n",
        "        if(ints_arr[x][y] != ints_arr[x][y]):\n",
        "            ints_arr[x][y] = int(0)\n",
        "\n",
        "all_names_ordered = np.append(no_int_cols,int_cols)\n",
        "x = np.append(no_ints_2, ints_arr, axis = 1)\n",
        "test_df = np.append(no_ints_2_test, ints_arr_test, axis = 1)\n",
        "test_df = pd.DataFrame(test_df, columns=all_names_ordered)\n",
        "#test_df = test_df.dropna(axis=0)\n",
        "print(test_df.shape)\n",
        "print('test', test_df.shape)\n",
        "print(x.shape)\n",
        "print(df_Y.shape)\n",
        "Y = df_Y.to_numpy()\n"
      ],
      "execution_count": null,
      "outputs": [
        {
          "output_type": "stream",
          "name": "stdout",
          "text": [
            "(1459, 79)\n",
            "test (1459, 79)\n",
            "(1460, 79)\n",
            "(1460,)\n"
          ]
        }
      ]
    },
    {
      "cell_type": "code",
      "metadata": {
        "id": "Le61DO1VCGle"
      },
      "source": [
        "from sklearn.model_selection import train_test_split\n",
        "train_x, test_x, train_Y, test_Y = train_test_split(x, Y)"
      ],
      "execution_count": null,
      "outputs": []
    },
    {
      "cell_type": "code",
      "metadata": {
        "id": "dG-nGawBkMcL"
      },
      "source": [
        "# from sklearn.model_selection import KFold\n",
        "\n",
        "# train_x = []\n",
        "# test_x = []\n",
        "# test_Y = []\n",
        "# train_Y = []\n",
        "\n",
        "\n",
        "# kf = KFold(n_splits=15, shuffle = True)  \n",
        "\n",
        "# kf.get_n_splits(x)\n",
        "# for train_index, test_index in kf.split(x):\n",
        "#     train_x, test_x = x[train_index], x[test_index]\n",
        "#     train_Y, test_Y = Y[train_index], Y[test_index]"
      ],
      "execution_count": null,
      "outputs": []
    },
    {
      "cell_type": "code",
      "metadata": {
        "colab": {
          "base_uri": "https://localhost:8080/"
        },
        "id": "V-_L3nKqWmTy",
        "outputId": "d69f598f-97f7-4864-bbf6-d6a2f81666cc"
      },
      "source": [
        "from sklearn.linear_model import LogisticRegression\n",
        "# print(train_x.shape)\n",
        "model = LogisticRegression()\n",
        "# # fit on the training set\n",
        "model.fit(train_x, train_Y)\n"
      ],
      "execution_count": null,
      "outputs": [
        {
          "output_type": "stream",
          "name": "stderr",
          "text": [
            "/usr/local/lib/python3.7/dist-packages/sklearn/linear_model/_logistic.py:818: ConvergenceWarning: lbfgs failed to converge (status=1):\n",
            "STOP: TOTAL NO. of ITERATIONS REACHED LIMIT.\n",
            "\n",
            "Increase the number of iterations (max_iter) or scale the data as shown in:\n",
            "    https://scikit-learn.org/stable/modules/preprocessing.html\n",
            "Please also refer to the documentation for alternative solver options:\n",
            "    https://scikit-learn.org/stable/modules/linear_model.html#logistic-regression\n",
            "  extra_warning_msg=_LOGISTIC_SOLVER_CONVERGENCE_MSG,\n"
          ]
        },
        {
          "output_type": "execute_result",
          "data": {
            "text/plain": [
              "LogisticRegression()"
            ]
          },
          "metadata": {},
          "execution_count": 160
        }
      ]
    },
    {
      "cell_type": "markdown",
      "metadata": {
        "id": "zgZbb3uWPmSM"
      },
      "source": [
        "# Random Forest Starts HERE"
      ]
    },
    {
      "cell_type": "code",
      "metadata": {
        "id": "EmbjQUGiN0mU"
      },
      "source": [
        "import math\n",
        "def rmse(x,y):\n",
        "    return math.sqrt(((x-y)**2).mean())\n",
        "def print_score(rf):\n",
        "    res = [rmse(rf.predict(train_x),train_Y),rmse(rf.predict(test_x),test_Y),rf.score(train_x,train_Y),rf.score(test_x,test_Y)]\n",
        "    if hasattr(rf,'oob_score_'):\n",
        "      res.append(m.oob_score_)\n",
        "    print(res)"
      ],
      "execution_count": null,
      "outputs": []
    },
    {
      "cell_type": "code",
      "metadata": {
        "colab": {
          "base_uri": "https://localhost:8080/"
        },
        "id": "XVJwQkycOGYQ",
        "outputId": "e01ea4b9-4f5b-4970-80dc-92d98f9ec08c"
      },
      "source": [
        "from sklearn.ensemble import RandomForestRegressor\n",
        "rf = RandomForestRegressor(n_jobs=-1)\n",
        "rf.fit(train_x, train_Y)\n",
        "print(len(train_x), len(x[0]), len(train_Y))\n",
        "print_score(rf)"
      ],
      "execution_count": null,
      "outputs": [
        {
          "output_type": "stream",
          "name": "stdout",
          "text": [
            "1095 79 1095\n",
            "[11552.976606744098, 26631.14488056676, 0.9790912119621477, 0.8831297943481986]\n"
          ]
        }
      ]
    },
    {
      "cell_type": "code",
      "metadata": {
        "colab": {
          "base_uri": "https://localhost:8080/"
        },
        "id": "O_Up5VROSEdl",
        "outputId": "3b417667-f4b6-489d-ca30-e8bc9982f38a"
      },
      "source": [
        "def feat_importance(m,df_train):\n",
        "    importance = m.feature_importances_\n",
        "    importance = pd.DataFrame(importance,index=df_train.columns,columns=[\"Importance\"])\n",
        "    return importance.sort_values(by=['Importance'],ascending=False)\n",
        "train_x = pd.DataFrame(train_x, columns=all_names_ordered)\n",
        "train_Y = pd.DataFrame(train_Y, columns=['SalePrice'])\n",
        "test_x = pd.DataFrame(test_x, columns=all_names_ordered)\n",
        "test_Y = pd.DataFrame(test_Y, columns=['SalePrice'])\n",
        "importance = feat_importance(rf, train_x)\n",
        "importance[:]\n",
        "print(importance.shape)\n",
        "# importance.plot(kind='barh')"
      ],
      "execution_count": null,
      "outputs": [
        {
          "output_type": "stream",
          "name": "stdout",
          "text": [
            "(79, 1)\n"
          ]
        }
      ]
    },
    {
      "cell_type": "code",
      "metadata": {
        "colab": {
          "base_uri": "https://localhost:8080/"
        },
        "id": "zhm7u-LtWc-O",
        "outputId": "77b7d917-8122-4ba4-ecfc-c6d93b72175f"
      },
      "source": [
        "\n",
        "#Discarding features with feature coefficients less than 0.01\n",
        "to_keep = importance[importance['Importance'] > 0.01].index\n",
        "#print(to_keep)\n",
        "x_train_keep = train_x[to_keep].copy()\n",
        "x_test_keep = test_x[to_keep].copy()\n",
        "train_data_keep = pd.concat([x_train_keep, train_Y], axis=1)\n",
        "train_data_keep_col = [c for c in train_data_keep.columns]\n",
        "\n",
        "x_train_keep = x_train_keep.to_numpy()\n",
        "x_test_keep = x_test_keep.to_numpy()\n",
        "\n",
        "# Y_train_keep = train_Y[to_keep].copy()\n",
        "# subtrain_x, subvalid_x = split_vals(x_train_keep.to_numpy(), 657)\n",
        "# subtrain_Y, subvalid_Y = split_vals(train_Y.to_numpy(), 657)\n",
        "# print(subtrain_x)\n",
        "\n",
        "def print_score_new(rf_new):\n",
        "    res = [rmse(rf_new.predict(x_train_keep),train_Y.to_numpy()),rmse(rf_new.predict(x_test_keep),test_Y.to_numpy()),rf_new.score(x_train_keep,train_Y.to_numpy()),rf_new.score(x_test_keep,test_Y.to_numpy())]\n",
        "    if hasattr(rf_new,'oob_score_'):\n",
        "      res.append(rf_new.oob_score_)\n",
        "    print(res)\n",
        "rf_new = RandomForestRegressor(n_jobs=-1)\n",
        "rf_new.fit(x_train_keep, train_Y)\n",
        "print_score_new(rf_new)\n"
      ],
      "execution_count": null,
      "outputs": [
        {
          "output_type": "stream",
          "name": "stdout",
          "text": [
            "original        OverallQual  GrLivArea  TotalBsmtSF  ...  GarageArea  LotArea  Neighborhood\n",
            "0             5.0     1520.0        793.0  ...       281.0   4500.0          18.0\n",
            "1             8.0     1489.0       1489.0  ...       776.0  11216.0          21.0\n",
            "2             7.0     2156.0       1568.0  ...       508.0  20781.0          14.0\n",
            "3             7.0     1479.0       1453.0  ...       558.0  10665.0           5.0\n",
            "4             5.0     1188.0       1188.0  ...       312.0  26142.0          11.0\n",
            "...           ...        ...          ...  ...         ...      ...           ...\n",
            "1090          6.0     1285.0        660.0  ...       528.0   8197.0          19.0\n",
            "1091          5.0     1437.0       1188.0  ...       576.0  14175.0          19.0\n",
            "1092          5.0     1301.0       1145.0  ...       440.0   6911.0           3.0\n",
            "1093          7.0     1382.0        673.0  ...       490.0   2651.0          21.0\n",
            "1094          5.0     1040.0       1040.0  ...       260.0   6897.0          19.0\n",
            "\n",
            "[1095 rows x 10 columns]\n",
            "keep       OverallQual  GrLivArea  TotalBsmtSF  ...  GarageArea  LotArea  Neighborhood\n",
            "0             5.0     1520.0        793.0  ...       281.0   4500.0          18.0\n",
            "1             8.0     1489.0       1489.0  ...       776.0  11216.0          21.0\n",
            "2             7.0     2156.0       1568.0  ...       508.0  20781.0          14.0\n",
            "3             7.0     1479.0       1453.0  ...       558.0  10665.0           5.0\n",
            "4             5.0     1188.0       1188.0  ...       312.0  26142.0          11.0\n",
            "...           ...        ...          ...  ...         ...      ...           ...\n",
            "1090          6.0     1285.0        660.0  ...       528.0   8197.0          19.0\n",
            "1091          5.0     1437.0       1188.0  ...       576.0  14175.0          19.0\n",
            "1092          5.0     1301.0       1145.0  ...       440.0   6911.0           3.0\n",
            "1093          7.0     1382.0        673.0  ...       490.0   2651.0          21.0\n",
            "1094          5.0     1040.0       1040.0  ...       260.0   6897.0          19.0\n",
            "\n",
            "[1095 rows x 10 columns]\n"
          ]
        },
        {
          "output_type": "stream",
          "name": "stderr",
          "text": [
            "/usr/local/lib/python3.7/dist-packages/ipykernel_launcher.py:26: DataConversionWarning: A column-vector y was passed when a 1d array was expected. Please change the shape of y to (n_samples,), for example using ravel().\n"
          ]
        },
        {
          "output_type": "stream",
          "name": "stdout",
          "text": [
            "[110185.24741719358, 105414.30750237645, 0.9759988348713035, 0.8569066487530272]\n"
          ]
        }
      ]
    },
    {
      "cell_type": "code",
      "metadata": {
        "colab": {
          "base_uri": "https://localhost:8080/",
          "height": 1000
        },
        "id": "H25d3q1gYdvj",
        "outputId": "5bb2e4e7-2b03-4108-dc2e-a29972602517"
      },
      "source": [
        "import matplotlib.pyplot as plt\n",
        "train_data_keep = pd.DataFrame(train_data_keep, columns=train_data_keep_col)\n",
        "def feat_importance_new(rf_new, train_data_keep):\n",
        "    importance_new = rf_new.feature_importances_\n",
        "    importance_new = pd.DataFrame(importance,index=train_data_keep.columns,columns=[\"Importance\"])\n",
        "    return importance_new.sort_values(by=['Importance'],ascending=False)\n",
        "importance_new = feat_importance_new(rf_new, train_data_keep)\n",
        "importance_new[:]\n",
        "importance_new.plot(kind='barh')\n",
        "\n",
        "print(train_data_keep)\n",
        "plt.figure(figsize=(14, 8))\n",
        "corr_matrix = train_data_keep[1:].corr().round(2)\n",
        "import seaborn as sns\n",
        "sns.heatmap(data=train_data_keep.corr().round(2),cmap='coolwarm',annot=True)"
      ],
      "execution_count": null,
      "outputs": [
        {
          "output_type": "stream",
          "name": "stdout",
          "text": [
            "      OverallQual  GrLivArea  TotalBsmtSF  ...  LotArea  Neighborhood  SalePrice\n",
            "0             5.0     1520.0        793.0  ...   4500.0          18.0     159434\n",
            "1             8.0     1489.0       1489.0  ...  11216.0          21.0     232600\n",
            "2             7.0     2156.0       1568.0  ...  20781.0          14.0     262500\n",
            "3             7.0     1479.0       1453.0  ...  10665.0           5.0     226000\n",
            "4             5.0     1188.0       1188.0  ...  26142.0          11.0     157900\n",
            "...           ...        ...          ...  ...      ...           ...        ...\n",
            "1090          6.0     1285.0        660.0  ...   8197.0          19.0     143500\n",
            "1091          5.0     1437.0       1188.0  ...  14175.0          19.0     168000\n",
            "1092          5.0     1301.0       1145.0  ...   6911.0           3.0     100000\n",
            "1093          7.0     1382.0        673.0  ...   2651.0          21.0     165000\n",
            "1094          5.0     1040.0       1040.0  ...   6897.0          19.0     127000\n",
            "\n",
            "[1095 rows x 11 columns]\n"
          ]
        },
        {
          "output_type": "execute_result",
          "data": {
            "text/plain": [
              "<matplotlib.axes._subplots.AxesSubplot at 0x7f3a14e5c550>"
            ]
          },
          "metadata": {},
          "execution_count": 184
        },
        {
          "output_type": "display_data",
          "data": {
            "image/png": "[encoded data removed]",
            "text/plain": [
              "<Figure size 432x288 with 1 Axes>"
            ]
          },
          "metadata": {
            "needs_background": "light"
          }
        },
        {
          "output_type": "display_data",
          "data": {
            "image/png": "[encoded data removed]",
            "text/plain": [
              "<Figure size 1008x576 with 2 Axes>"
            ]
          },
          "metadata": {
            "needs_background": "light"
          }
        }
      ]
    },
    {
      "cell_type": "code",
      "metadata": {
        "colab": {
          "base_uri": "https://localhost:8080/"
        },
        "id": "-TVfgdvrcvCb",
        "outputId": "4f78fd06-ae54-498a-af91-d557aa83bd7a"
      },
      "source": [
        "from sklearn.model_selection import RandomizedSearchCV\n",
        "\n",
        "n_estimators = [int(x) for x in np.arange(start = 100, stop = 200, step = 10)]\n",
        "max_features = [0.5,'auto', 'sqrt','log2']\n",
        "min_samples_leaf = [1, 2, 4]\n",
        "bootstrap = [True, False]\n",
        "random_grid = {'n_estimators': n_estimators,\n",
        "               'max_features': max_features,\n",
        "               'min_samples_leaf': min_samples_leaf,\n",
        "               'bootstrap': bootstrap}\n",
        "# First create the base model to tune\n",
        "m = RandomForestRegressor()\n",
        "# Fit the random search model\n",
        "m_random = RandomizedSearchCV(estimator = m, param_distributions = random_grid, n_iter = 100, cv = 3, verbose=2, random_state=42, n_jobs = -1)\n",
        "m_random.fit(x_train_keep, train_Y)\n",
        "param = m_random.best_params_"
      ],
      "execution_count": null,
      "outputs": [
        {
          "output_type": "stream",
          "name": "stdout",
          "text": [
            "Fitting 3 folds for each of 100 candidates, totalling 300 fits\n"
          ]
        },
        {
          "output_type": "stream",
          "name": "stderr",
          "text": [
            "/usr/local/lib/python3.7/dist-packages/sklearn/model_selection/_search.py:926: DataConversionWarning: A column-vector y was passed when a 1d array was expected. Please change the shape of y to (n_samples,), for example using ravel().\n",
            "  self.best_estimator_.fit(X, y, **fit_params)\n"
          ]
        }
      ]
    },
    {
      "cell_type": "code",
      "metadata": {
        "colab": {
          "base_uri": "https://localhost:8080/"
        },
        "id": "dznbvGztXp1P",
        "outputId": "48529eb1-cb58-4fa2-f8d7-3ac184595ab7"
      },
      "source": [
        "print(param)\n",
        "from sklearn.metrics import mean_absolute_error\n",
        "\n",
        "def print_score_final(rand_forest):\n",
        "    res = [rmse(rand_forest.predict(train_x),train_Y.to_numpy()), rmse(rand_forest.predict(test_x),test_Y.to_numpy()),rand_forest.score(train_x,train_Y.to_numpy()),rand_forest.score(test_x,test_Y.to_numpy())]\n",
        "    if hasattr(rf_new,'oob_score_'):\n",
        "      res.append(rf_new.oob_score_)\n",
        "    print(res)\n",
        "rand_forest = RandomForestRegressor(n_estimators=160, min_samples_leaf=1, max_features='sqrt', bootstrap=True, oob_score = True)\n",
        "rand_forest.fit(train_x, train_Y)\n",
        "print_score_final(rand_forest)\n",
        "print('R^2 Training Score: {:.2f} \\nR^2 Validation Score: {:.2f}'.format(rand_forest.score(train_x, train_Y), rand_forest.score(test_x, test_Y)))\n",
        "\n",
        "yhat = rand_forest.predict(test_x)\n",
        "accuracy = mean_absolute_error(test_Y, yhat)\n",
        "print('MAE', accuracy)"
      ],
      "execution_count": null,
      "outputs": [
        {
          "output_type": "stream",
          "name": "stdout",
          "text": [
            "{'n_estimators': 160, 'min_samples_leaf': 1, 'max_features': 'sqrt', 'bootstrap': False}\n"
          ]
        },
        {
          "output_type": "stream",
          "name": "stderr",
          "text": [
            "/usr/local/lib/python3.7/dist-packages/ipykernel_launcher.py:10: DataConversionWarning: A column-vector y was passed when a 1d array was expected. Please change the shape of y to (n_samples,), for example using ravel().\n",
            "  # Remove the CWD from sys.path while we load stuff.\n",
            "/usr/local/lib/python3.7/dist-packages/sklearn/base.py:446: UserWarning: X does not have valid feature names, but RandomForestRegressor was fitted with feature names\n",
            "  \"X does not have valid feature names, but\"\n"
          ]
        },
        {
          "output_type": "stream",
          "name": "stdout",
          "text": [
            "[108466.81999692321, 101741.5841752217, 0.97724912092836, 0.882216152054269]\n",
            "R^2 Training Score: 0.98 \n",
            "R^2 Validation Score: 0.88\n",
            "MAE 17317.71184931507\n"
          ]
        }
      ]
    },
    {
      "cell_type": "code",
      "metadata": {
        "id": "L_bAy1L_HjHY"
      },
      "source": [
        "# cols = test_df.columns[:]\n",
        "# print(test_df.loc[0,cols[0]])\n",
        "# for x in range(test_df.shape[0]):\n",
        "#     for y in cols:\n",
        "#         if test_df.loc[x,y] != test_df.loc[x,y]:\n",
        "#             test_df.at[x,y] = int(0)\n"
      ],
      "execution_count": null,
      "outputs": []
    },
    {
      "cell_type": "code",
      "metadata": {
        "id": "0VFsEFJvSe4Y"
      },
      "source": [
        "# result = rand_forest.predict(test_df)\n",
        "# result = pd.DataFrame(test_model.predict(test_df), column=['SalePrice'])"
      ],
      "execution_count": null,
      "outputs": []
    },
    {
      "cell_type": "code",
      "metadata": {
        "colab": {
          "base_uri": "https://localhost:8080/"
        },
        "id": "yFhNF0LqY0zJ",
        "outputId": "2ed6679e-0506-40f4-d58f-74d521b87a25"
      },
      "source": [
        "from sklearn.metrics import accuracy_score\n",
        "from sklearn.metrics import mean_squared_error\n",
        "from sklearn.metrics import mean_absolute_error\n",
        "print(test_x.shape)\n",
        "yhat = model.predict(test_x)\n",
        "# evaluate predictions\n",
        "# 502878784.15821916\n",
        "# 3745724746.4054794\n",
        "# 3623476490.2\n",
        "# 3445919227\n",
        "# 1939061191.052055\n",
        "# 7170454091.852055\n",
        "# 6255158098.70137\n",
        "# 7170454091.852055\n",
        "# 4184187620\n",
        "# 2979362752\n",
        "accuracy = mean_absolute_error(test_Y, yhat)\n",
        "accuracy_2 = accuracy_score(test_Y, yhat)\n",
        "print('MSE: '+str(accuracy))\n",
        "print(\"ACCURACY: \",accuracy_2)\n",
        "print(yhat)\n",
        "print(test_Y)\n",
        "print(\"DONE\")"
      ],
      "execution_count": null,
      "outputs": [
        {
          "output_type": "stream",
          "name": "stdout",
          "text": [
            "(97, 79)\n",
            "MSE: 37246.12371134021\n",
            "ACCURACY:  0.041237113402061855\n",
            "[190000 143000 250000 220000 125000 181000 110000 178000 171000 110000\n",
            " 110000 145000 325000  84500 220000 180000 155000 147000 155000 155000\n",
            " 140000 220000 135000 250000 180000 185000 151000 215000 250000 217000\n",
            " 155000 232000 155000 278000 144000 160000 112000 160000 144000 178000\n",
            " 119000 110000 225000 145000 140000 185000 172500 143000 191000 143000\n",
            " 110000 200000 178000 151000 225000 125000 144000 110000 110000 148000\n",
            " 230000 240000 151000 232000 125000 151000 145000 192000 143000 220000\n",
            " 225000 145000 110000 147000 178000 125000 144000 230000 290000 147000\n",
            " 235000 185000 172500 225000 143000 225000 240000 135000 240000 181000\n",
            " 191000 173000 181000 140000 144000 120500 155000]\n",
            "    SalePrice\n",
            "0      200000\n",
            "1      157000\n",
            "2      309000\n",
            "3      153000\n",
            "4      109000\n",
            "..        ...\n",
            "92     239000\n",
            "93     105000\n",
            "94     133000\n",
            "95     149300\n",
            "96     240000\n",
            "\n",
            "[97 rows x 1 columns]\n",
            "DONE\n"
          ]
        },
        {
          "output_type": "stream",
          "name": "stderr",
          "text": [
            "/usr/local/lib/python3.7/dist-packages/sklearn/base.py:439: UserWarning: X has feature names, but LogisticRegression was fitted without feature names\n",
            "  f\"X has feature names, but {self.__class__.__name__} was fitted without\"\n"
          ]
        }
      ]
    },
    {
      "cell_type": "code",
      "metadata": {
        "id": "pQ96_1dELoeZ"
      },
      "source": [
        "# # there might be irrelavent features, we can find feature importance and filter \n",
        "# # out variables with relative low coefficients.\n",
        "# import statsmodels\n",
        "# import statsmodels.api as sm\n",
        "\n",
        "# headers = [col for col in df.columns]\n",
        "# scaler = MinMaxScaler()\n",
        "# df[headers] = scaler.fit_transform(df[headers])\n",
        "\n",
        "# logit_model = sm.Logit(test_Y, test_x).fit()\n",
        "# print(logit_model.summary())   \n"
      ],
      "execution_count": null,
      "outputs": []
    },
    {
      "cell_type": "code",
      "metadata": {
        "id": "mU6xJZpZBPBx"
      },
      "source": [
        "from sklearn.metrics import confusion_matrix\n",
        "from sklearn.model_selection import train_test_split\n",
        "from sklearn import svm, datasets\n",
        "import matplotlib.pyplot as plt\n",
        "import numpy as np\n",
        "import pandas as pd\n",
        "from sklearn.preprocessing import MinMaxScaler\n"
      ],
      "execution_count": null,
      "outputs": []
    },
    {
      "cell_type": "code",
      "metadata": {
        "colab": {
          "base_uri": "https://localhost:8080/"
        },
        "id": "07qm24aICvse",
        "outputId": "45e319f4-285f-4405-f11b-d88c2b7515c8"
      },
      "source": [
        "linear = svm.SVC(kernel='linear', decision_function_shape='ovo').fit(train_x, train_Y)\n",
        "rbf = svm.SVC(kernel='rbf', gamma=1, C=1, decision_function_shape='ovo').fit(train_x, train_Y)\n",
        "poly = svm.SVC(kernel='poly', degree=3, C=1, decision_function_shape='ovo').fit(train_x, train_Y)\n",
        "sig = svm.SVC(kernel='sigmoid', C=1, decision_function_shape='ovo').fit(train_x, train_Y)\n",
        "\n",
        "linear_pred = linear.predict(test_x)\n",
        "poly_pred = poly.predict(test_x)\n",
        "rbf_pred = rbf.predict(test_x)\n",
        "sig_pred = sig.predict(test_x)\n",
        "\n",
        "\n",
        "lin_accuracy = mean_absolute_error(test_Y, linear_pred)\n",
        "print(lin_accuracy)\n",
        "poly_accuracy = mean_absolute_error(test_Y, poly_pred)\n",
        "print(poly_accuracy)\n",
        "rbf_accuracy = mean_absolute_error(test_Y, rbf_pred)\n",
        "print(rbf_accuracy)\n",
        "sig_accuracy = mean_absolute_error(test_Y, sig_pred)\n",
        "print(sig_accuracy)\n",
        "\n",
        "\n",
        "from sklearn.ensemble import GradientBoostingRegressor\n",
        "model = GradientBoostingRegressor()\n",
        "# fit the model on the whole dataset\n",
        "model.fit(train_x, train_Y)"
      ],
      "execution_count": null,
      "outputs": [
        {
          "output_type": "stream",
          "name": "stderr",
          "text": [
            "/usr/local/lib/python3.7/dist-packages/sklearn/utils/validation.py:985: DataConversionWarning: A column-vector y was passed when a 1d array was expected. Please change the shape of y to (n_samples, ), for example using ravel().\n",
            "  y = column_or_1d(y, warn=True)\n",
            "/usr/local/lib/python3.7/dist-packages/sklearn/utils/validation.py:985: DataConversionWarning: A column-vector y was passed when a 1d array was expected. Please change the shape of y to (n_samples, ), for example using ravel().\n",
            "  y = column_or_1d(y, warn=True)\n",
            "/usr/local/lib/python3.7/dist-packages/sklearn/utils/validation.py:985: DataConversionWarning: A column-vector y was passed when a 1d array was expected. Please change the shape of y to (n_samples, ), for example using ravel().\n",
            "  y = column_or_1d(y, warn=True)\n",
            "/usr/local/lib/python3.7/dist-packages/sklearn/utils/validation.py:985: DataConversionWarning: A column-vector y was passed when a 1d array was expected. Please change the shape of y to (n_samples, ), for example using ravel().\n",
            "  y = column_or_1d(y, warn=True)\n"
          ]
        },
        {
          "output_type": "stream",
          "name": "stdout",
          "text": [
            "30363.0206185567\n",
            "59614.59793814433\n",
            "60019.21649484536\n",
            "60019.21649484536\n"
          ]
        },
        {
          "output_type": "stream",
          "name": "stderr",
          "text": [
            "/usr/local/lib/python3.7/dist-packages/sklearn/ensemble/_gb.py:494: DataConversionWarning: A column-vector y was passed when a 1d array was expected. Please change the shape of y to (n_samples, ), for example using ravel().\n",
            "  y = column_or_1d(y, warn=True)\n"
          ]
        },
        {
          "output_type": "execute_result",
          "data": {
            "text/plain": [
              "GradientBoostingRegressor()"
            ]
          },
          "metadata": {},
          "execution_count": 152
        }
      ]
    },
    {
      "cell_type": "code",
      "metadata": {
        "id": "vCQmbOiiqwWG",
        "colab": {
          "base_uri": "https://localhost:8080/"
        },
        "outputId": "91220621-cc5e-4eac-8e56-39f0ad99f8a2"
      },
      "source": [
        "from sklearn import metrics\n",
        "from sklearn.metrics import accuracy_score\n",
        "\n",
        "yhat = model.predict(test_x)\n",
        "accuracy = mean_absolute_error(test_Y, yhat)\n",
        "\n",
        "print('GBM', accuracy)\n",
        "\n",
        "\n",
        "rf_yhat = rf.predict(test_x)\n",
        "accuracy_rf = mean_absolute_error(test_Y, rf_yhat)\n",
        "print('rf ', accuracy_rf)\n",
        "\n",
        "\n",
        "#linear mse 1939061191.052055\n",
        "#rbf mse 7170454091.852055\n",
        "#poly mse 6255158098.70137\n",
        "#sig mse 7170454091.852055\n",
        "\n",
        "# print(\"linear acc\", metrics.accuracy_score(test_Y, linear_pred))\n",
        "# print(\"rbf acc\", metrics.accuracy_score(test_Y, rbf_pred))\n",
        "# print(\"poly acc\", metrics.accuracy_score(test_Y, poly_pred))\n",
        "# print(\"sig acc\", metrics.accuracy_score(test_Y, sig_pred))\n",
        "# print(\"linear mse\", mean_squared_error(test_Y, linear_pred))\n",
        "# print(\"rbf mse\", mean_squared_error(test_Y, rbf_pred))\n",
        "# print(\"poly mse\", mean_squared_error(test_Y, poly_pred))\n",
        "# print(\"sig mse\", mean_squared_error(test_Y, sig_pred))"
      ],
      "execution_count": null,
      "outputs": [
        {
          "output_type": "stream",
          "name": "stdout",
          "text": [
            "GBM 13633.698395904816\n",
            "rf  13557.715876288661\n"
          ]
        },
        {
          "output_type": "stream",
          "name": "stderr",
          "text": [
            "/usr/local/lib/python3.7/dist-packages/sklearn/base.py:439: UserWarning: X has feature names, but RandomForestRegressor was fitted without feature names\n",
            "  f\"X has feature names, but {self.__class__.__name__} was fitted without\"\n"
          ]
        }
      ]
    }
  ]
}