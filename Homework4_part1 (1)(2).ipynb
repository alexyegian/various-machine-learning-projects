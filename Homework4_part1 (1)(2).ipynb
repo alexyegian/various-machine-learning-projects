{
 "cells": [
  {
   "cell_type": "code",
   "execution_count": 1,
   "metadata": {
    "id": "2IlwhV0z2nMr"
   },
   "outputs": [],
   "source": [
    "%matplotlib inline"
   ]
  },
  {
   "cell_type": "markdown",
   "metadata": {
    "id": "Chprzdhe2nMw"
   },
   "source": [
    "# Homework 4\n",
    "\n",
    "**DUE: 6/6/2021 11:59 (Sunday)**\n",
    "\n",
    "\n",
    "## Part one: this notebook (60 points)\n",
    "\n",
    "Part one of the homework is just like previous homeworks. Finish this notebook and turn in a report to canvas, in the format of a PDF as well as the .ipynb notebook itself. \n",
    "\n",
    "\n",
    "To write legible answers you will need to be familiar with both [Markdown](https://github.com/adam-p/markdown-here/wiki/Markdown-Cheatsheet) and [Latex](https://www.latex-tutorial.com/tutorials/amsmath/)\n",
    "\n",
    "Before you turn this problem in, make sure everything runs as expected. First, restart the kernel (in the menubar, select Runtime→→Restart runtime) and then run all cells (in the menubar, select Runtime→→Run All).\n",
    "\n",
    "Make sure you fill in any place that says \"YOUR CODE HERE\" or \"YOUR ANSWER HERE\"\n",
    "\n",
    "\n",
    "## Part Two: open-ended Image Classification problem (60 points)\n",
    "\n",
    "Here is the link to the kaggle in class competition: https://www.kaggle.com/c/cse144-hw4-part2/. \n",
    "\n",
    "All descriptions about the problem, data, and submisison instructions can be found on the kaggle site. You will use the data provided to you, and then train a machine learning model of your own choice, and then use your model to predict on the test samples, and then submit your prediction to the kaggle website, which will calculate your accuracy score based on the truth label, and then show your result in the leaderboard. \n",
    "\n",
    "\n",
    "Hint: you can use what you learnt from part 1 to get better results in the kaggle competition. (a.k.a transfer learning). you are free to try any other techniques or ideas that you are curious of. \n",
    "\n",
    "You should write a report to describe what you did. The grading of this part of the homework will be partially from competition accuracy and ranking (40pt), and partially from report (20pt). "
   ]
  },
  {
   "cell_type": "markdown",
   "metadata": {
    "id": "wyRMGyp9Y9c3"
   },
   "source": [
    "## Question 1 - MNIST Hand-Written Digit. \n",
    "\n",
    "This is a dataset of 60,000 28x28 grayscale images of the 10 digits, along with a test set of 10,000 images. More info can be found at the MNIST homepage. http://yann.lecun.com/exdb/mnist/"
   ]
  },
  {
   "cell_type": "markdown",
   "metadata": {
    "id": "B1U2O-ElzqES"
   },
   "source": [
    "Run the following code cell to download the training and test data. It might take a while to download the zip file and extract it."
   ]
  },
  {
   "cell_type": "code",
   "execution_count": 2,
   "metadata": {
    "id": "iExiItBkdS8F"
   },
   "outputs": [],
   "source": [
    "import tensorflow as tf\n",
    "import numpy as np\n",
    "(x_train, y_train), (x_test, y_test) = tf.keras.datasets.mnist.load_data(path=\"mnist.npz\")"
   ]
  },
  {
   "cell_type": "markdown",
   "metadata": {
    "id": "a2wuuxOO0HuI"
   },
   "source": [
    "### Part A) Understanding and Processing the Data (5pt)\n",
    "\n",
    "Now that you downloaded the data, and save them in the four variables `x_train`, `y_train`, `x_test` and `y_test`. Complete the following steps:\n",
    "\n",
    "1) Examine the data carefully, find out: \n",
    "* how many samples are in train, and how many are in test. \n",
    "* what's the input dimension of the training data\n",
    "* what's the number of labels\n",
    "\n",
    "2) rescale the pixel values of the training and test images from [0,255] to [0,1]"
   ]
  },
  {
   "cell_type": "code",
   "execution_count": 3,
   "metadata": {
    "id": "ixFBCHfu26Te"
   },
   "outputs": [
    {
     "name": "stdout",
     "output_type": "stream",
     "text": [
      "(60000, 28, 28)\n",
      "(60000,)\n",
      "(10000, 28, 28)\n",
      "(10000,)\n",
      "Max Value:  1.0\n"
     ]
    }
   ],
   "source": [
    "### YOUR CODE HERE ###\n",
    "print(x_train.shape)\n",
    "print(y_train.shape)\n",
    "print(x_test.shape)\n",
    "print(y_test.shape)\n",
    "x_train = np.divide(x_train, 255)\n",
    "x_test = np.divide(x_test, 255)\n",
    "print(\"Max Value: \",np.max(x_train))"
   ]
  },
  {
   "cell_type": "markdown",
   "metadata": {
    "id": "v8Ux3Knk3H74"
   },
   "source": [
    "### Part B) Building a Convolutional Neural Network (30pt + 5pt)\n",
    "For this assignment, we are not going to give you any starter code. You will be writing a convolutional neural network from scratch. You may use the keras documentation freely. You might also find online tutorials helpful. However, all code that you submit must be your own.\n",
    "\n",
    "Make sure that your code is vectorized, and does not contain obvious inefficiencies (for example, unnecessary for loops). Ensure enough comments are included in the code so that your graders can understand what you are doing. It is your responsibility to show that you understand what you write.\n",
    "\n",
    "Follow the steps below to show your work."
   ]
  },
  {
   "cell_type": "markdown",
   "metadata": {
    "id": "KCPYVJO44BWw"
   },
   "source": [
    "#### Step 1) Building the Network (10pt)\n",
    "Build a convolutional neural network model that takes the ($28\\times 28$) image as input, and predicts the digit. Explain your choice of the architecture: how many layers did you choose? What types of layers did you use? Were they fully-connected or convolutional? What about other decisions like pooling layers, activation functions, number of channels / hidden units?"
   ]
  },
  {
   "cell_type": "code",
   "execution_count": 4,
   "metadata": {
    "id": "NX8vUwnn5YTJ"
   },
   "outputs": [
    {
     "name": "stdout",
     "output_type": "stream",
     "text": [
      "Model: \"sequential\"\n",
      "_________________________________________________________________\n",
      "Layer (type)                 Output Shape              Param #   \n",
      "=================================================================\n",
      "conv2d (Conv2D)              (None, 26, 26, 32)        320       \n",
      "_________________________________________________________________\n",
      "batch_normalization (BatchNo (None, 26, 26, 32)        128       \n",
      "_________________________________________________________________\n",
      "activation (Activation)      (None, 26, 26, 32)        0         \n",
      "_________________________________________________________________\n",
      "flatten (Flatten)            (None, 21632)             0         \n",
      "_________________________________________________________________\n",
      "batch_normalization_1 (Batch (None, 21632)             86528     \n",
      "_________________________________________________________________\n",
      "activation_1 (Activation)    (None, 21632)             0         \n",
      "_________________________________________________________________\n",
      "dense (Dense)                (None, 10)                216330    \n",
      "_________________________________________________________________\n",
      "activation_2 (Activation)    (None, 10)                0         \n",
      "=================================================================\n",
      "Total params: 303,306\n",
      "Trainable params: 259,978\n",
      "Non-trainable params: 43,328\n",
      "_________________________________________________________________\n",
      "Model: \"sequential_1\"\n",
      "_________________________________________________________________\n",
      "Layer (type)                 Output Shape              Param #   \n",
      "=================================================================\n",
      "conv2d_1 (Conv2D)            (None, 26, 26, 32)        320       \n",
      "_________________________________________________________________\n",
      "batch_normalization_2 (Batch (None, 26, 26, 32)        128       \n",
      "_________________________________________________________________\n",
      "activation_3 (Activation)    (None, 26, 26, 32)        0         \n",
      "_________________________________________________________________\n",
      "flatten_1 (Flatten)          (None, 21632)             0         \n",
      "_________________________________________________________________\n",
      "batch_normalization_3 (Batch (None, 21632)             86528     \n",
      "_________________________________________________________________\n",
      "dense_1 (Dense)              (None, 30)                648990    \n",
      "_________________________________________________________________\n",
      "dense_2 (Dense)              (None, 10)                310       \n",
      "=================================================================\n",
      "Total params: 736,276\n",
      "Trainable params: 692,948\n",
      "Non-trainable params: 43,328\n",
      "_________________________________________________________________\n",
      "done\n"
     ]
    }
   ],
   "source": [
    "### YOUR CODE HERE ###\n",
    "import tensorflow as tf\n",
    "from tensorflow import keras\n",
    "from keras.layers import Conv2D, MaxPooling2D, ZeroPadding2D, GlobalAveragePooling2D, Flatten\n",
    "from keras.layers.normalization import BatchNormalization\n",
    "from tensorflow.keras.models import Model\n",
    "from keras.models import Sequential\n",
    "from keras.layers.core import Dense, Dropout, Activation # Types of layers to be used in our model\n",
    "from tensorflow.keras.optimizers import * # you can use any optimizer\n",
    "\n",
    "\n",
    "\n",
    "\n",
    "def make_model():\n",
    "    model = Sequential()                                 # Linear stacking of layers\n",
    "\n",
    "    # Convolution Layer 1\n",
    "    model.add(Conv2D(32, (3, 3), input_shape=(28,28,1))) # 32 different 3x3 kernels -- so 32 feature maps\n",
    "    model.add(BatchNormalization(axis=-1))               # normalize each feature map before activation\n",
    "    convLayer01 = Activation('relu')                     # activation\n",
    "    model.add(convLayer01)\n",
    "    model.add(Flatten())       \n",
    "    model.add(BatchNormalization()) \n",
    "    model.add(Activation('relu'))  \n",
    "    model.add(Dense(10))                                \n",
    "    model.add(Activation('softmax'))           \n",
    "    return model\n",
    "    \n",
    "def make_model2():\n",
    "    model = Sequential()                               \n",
    "\n",
    "    # Convolution Layer 1\n",
    "    model.add(Conv2D(32, (3, 3), input_shape=(28,28,1))) \n",
    "    model.add(BatchNormalization(axis=-1))              \n",
    "    model.add(Activation('relu'))                 \n",
    "    model.add(Flatten())       \n",
    "    model.add(BatchNormalization()) \n",
    "    model.add(Dense(units = 30, activation = 'linear'))  \n",
    "    model.add(Dense(units = 10, activation = 'softmax'))           \n",
    "    return model\n",
    "    \n",
    "model = make_model()\n",
    "optim = Adam(learning_rate = .001)\n",
    "#model.compile(loss='categorical_crossentropy', optimizer = 'adam',\n",
    " #             metrics=['accuracy'])\n",
    "model.summary()\n",
    "model = make_model2()\n",
    "model.compile(loss='categorical_crossentropy', optimizer = 'adam',\n",
    "              metrics=['accuracy'])\n",
    "model.summary()\n",
    "print(\"done\")"
   ]
  },
  {
   "cell_type": "markdown",
   "metadata": {
    "id": "56Mq94xm5bL_"
   },
   "source": [
    "[YOUR ANSWER HERE]"
   ]
  },
  {
   "cell_type": "markdown",
   "metadata": {
    "id": "7arv3llO5e6u"
   },
   "source": [
    "#### Step 2) Training the Network (10pt)\n",
    "Write code that trains your neural network given the training data. Your training code should make it easy to tweak the usual hyperparameters, like batch size, learning rate, and the model object itself. Make sure that you are checkpointing your models from time to time (the frequency is up to you). Explain your choice of loss function and optimizer.\n",
    "\n",
    "Plot the training curve as well. (`model.fit` returns a `History` object which contains the loss history in `History.history` attribute)"
   ]
  },
  {
   "cell_type": "code",
   "execution_count": 5,
   "metadata": {},
   "outputs": [
    {
     "name": "stdout",
     "output_type": "stream",
     "text": [
      "[[5]\n",
      " [0]\n",
      " [4]\n",
      " ...\n",
      " [5]\n",
      " [6]\n",
      " [8]]\n",
      "[[0. 0. 0. ... 0. 0. 0.]\n",
      " [1. 0. 0. ... 0. 0. 0.]\n",
      " [0. 0. 0. ... 0. 0. 0.]\n",
      " ...\n",
      " [0. 0. 0. ... 0. 0. 0.]\n",
      " [0. 0. 0. ... 0. 0. 0.]\n",
      " [0. 0. 0. ... 0. 1. 0.]]\n",
      "(60000, 28, 28)\n",
      "(60000, 28, 28, 1)\n"
     ]
    }
   ],
   "source": [
    "### YOUR CODE HERE ###\n",
    "#Decision of \n",
    "import matplotlib.pyplot as plt\n",
    "\n",
    "from sklearn.preprocessing import OneHotEncoder\n",
    "# Your code\n",
    "j = OneHotEncoder()\n",
    "y_enc= y_train\n",
    "y_enc = y_enc.reshape(-1, 1)\n",
    "print(y_enc)\n",
    "j.fit(y_enc)\n",
    "y_enc_2 = j.transform(y_enc).toarray()\n",
    "y_enc = y_enc_2\n",
    "print(y_enc)\n",
    "def plot_losses(hist):\n",
    "    plt.plot(hist.history['loss'])\n",
    "    plt.plot(hist.history['val_loss'])\n",
    "    plt.title('Model Loss')\n",
    "    plt.ylabel('Loss')\n",
    "    plt.xlabel('Epoch')\n",
    "    plt.legend(['Train', 'Val'])\n",
    "    plt.show()\n",
    "def plot_accuracies(hist):\n",
    "    plt.plot(hist.history['accuracy'])\n",
    "    plt.plot(hist.history['val_accuracy'])\n",
    "    plt.title('Model Accuracy')\n",
    "    plt.ylabel('Accuracy')\n",
    "    plt.xlabel('Epoch')\n",
    "    plt.legend(['Train', 'Val'])\n",
    "    plt.show()\n",
    "def plot_losses_no_val(hist):\n",
    "    plt.plot(hist.history['loss'])\n",
    "    #plt.plot(hist.history['val_loss'])\n",
    "    plt.title('Model Loss')\n",
    "    plt.ylabel('Loss')\n",
    "    plt.xlabel('Epoch')\n",
    "    plt.legend(['Train'])\n",
    "    plt.show()\n",
    "def plot_accuracies_no_val(hist):\n",
    "    plt.plot(hist.history['accuracy'])\n",
    "    #plt.plot(hist.history['val_accuracy'])\n",
    "    plt.title('Model Accuracy')\n",
    "    plt.ylabel('Accuracy')\n",
    "    plt.xlabel('Epoch')\n",
    "    plt.legend(['Train'])\n",
    "    plt.show()\n",
    "print(x_train.shape)\n",
    "x_train = x_train.reshape(x_train.shape[0], x_train.shape[1], x_train.shape[2], 1)\n",
    "print(x_train.shape)\n"
   ]
  },
  {
   "cell_type": "code",
   "execution_count": 6,
   "metadata": {},
   "outputs": [
    {
     "name": "stdout",
     "output_type": "stream",
     "text": [
      "Epoch 1/6\n",
      "94/94 [==============================] - 97s 335ms/step - loss: 0.9285 - accuracy: 0.8453 - val_loss: 2.7962 - val_accuracy: 0.2280\n",
      "Epoch 2/6\n",
      "94/94 [==============================] - 31s 332ms/step - loss: 0.1709 - accuracy: 0.9657 - val_loss: 3.1277 - val_accuracy: 0.2822\n",
      "Epoch 3/6\n",
      "94/94 [==============================] - 30s 316ms/step - loss: 0.0821 - accuracy: 0.9806 - val_loss: 1.5634 - val_accuracy: 0.5978\n",
      "Epoch 4/6\n",
      "94/94 [==============================] - 28s 298ms/step - loss: 0.0561 - accuracy: 0.9872 - val_loss: 0.9965 - val_accuracy: 0.7084\n",
      "Epoch 5/6\n",
      "94/94 [==============================] - 30s 315ms/step - loss: 0.0408 - accuracy: 0.9896 - val_loss: 0.3923 - val_accuracy: 0.8938\n",
      "Epoch 6/6\n",
      "94/94 [==============================] - 31s 331ms/step - loss: 0.0251 - accuracy: 0.9921 - val_loss: 0.2193 - val_accuracy: 0.9524\n"
     ]
    },
    {
     "data": {
      "image/png": "[encoded data removed]",
      "text/plain": [
       "<Figure size 432x288 with 1 Axes>"
      ]
     },
     "metadata": {
      "needs_background": "light"
     },
     "output_type": "display_data"
    },
    {
     "data": {
      "image/png": "[encoded data removed]",
      "text/plain": [
       "<Figure size 432x288 with 1 Axes>"
      ]
     },
     "metadata": {
      "needs_background": "light"
     },
     "output_type": "display_data"
    }
   ],
   "source": [
    "\n",
    "hist = model.fit(x_train, y_enc,\n",
    "                    epochs = 6, \n",
    "                   batch_size = 512,\n",
    "                    validation_split = 0.2,\n",
    "                    verbose = 1)\n",
    "\n",
    "plot_losses(hist)\n",
    "plot_accuracies(hist)"
   ]
  },
  {
   "cell_type": "markdown",
   "metadata": {
    "id": "WUFE8Akq5x2M"
   },
   "source": [
    "[YOUR ANSWER HERE]"
   ]
  },
  {
   "cell_type": "markdown",
   "metadata": {
    "id": "dShVlLyX6DFj"
   },
   "source": [
    "#### Step 3) Overfit to A Small Dataset (5pt)\n",
    "\n",
    "One way to sanity check our neural network model and training code is to check whether the model is capable of overfitting or memorizing a small dataset. A properly constructed CNN with correct training code should be able to memorize the answers to a small number of images quickly.\n",
    "\n",
    "Construct a small dataset (e.g. say ~10 sample from the training data). Then show that your model and training code is capable of memorizing the labels of this small data set.\n",
    "\n",
    "With a large batch size (e.g. the entire small dataset) and a learning rate that is not too high, you should be able to obtain a 100% training accuracy on that small dataset relatively quickly."
   ]
  },
  {
   "cell_type": "code",
   "execution_count": 7,
   "metadata": {},
   "outputs": [
    {
     "name": "stdout",
     "output_type": "stream",
     "text": [
      "(10, 28, 28, 1)\n",
      "[[0. 0. 0. 0. 0. 1. 0. 0. 0. 0.]\n",
      " [1. 0. 0. 0. 0. 0. 0. 0. 0. 0.]\n",
      " [0. 0. 0. 0. 1. 0. 0. 0. 0. 0.]\n",
      " [0. 1. 0. 0. 0. 0. 0. 0. 0. 0.]\n",
      " [0. 0. 0. 0. 0. 0. 0. 0. 0. 1.]\n",
      " [0. 0. 1. 0. 0. 0. 0. 0. 0. 0.]\n",
      " [0. 1. 0. 0. 0. 0. 0. 0. 0. 0.]\n",
      " [0. 0. 0. 1. 0. 0. 0. 0. 0. 0.]\n",
      " [0. 1. 0. 0. 0. 0. 0. 0. 0. 0.]\n",
      " [0. 0. 0. 0. 1. 0. 0. 0. 0. 0.]]\n",
      "(10, 10)\n",
      "Epoch 1/6\n",
      "1/1 [==============================] - 6s 6s/step - loss: 2.2965 - accuracy: 0.1000\n",
      "Epoch 2/6\n",
      "1/1 [==============================] - 0s 37ms/step - loss: 0.0170 - accuracy: 1.0000\n",
      "Epoch 3/6\n",
      "1/1 [==============================] - 0s 20ms/step - loss: 5.6396e-04 - accuracy: 1.0000\n",
      "Epoch 4/6\n",
      "1/1 [==============================] - 0s 16ms/step - loss: 4.8873e-05 - accuracy: 1.0000\n",
      "Epoch 5/6\n",
      "1/1 [==============================] - 0s 28ms/step - loss: 7.0094e-06 - accuracy: 1.0000\n",
      "Epoch 6/6\n",
      "1/1 [==============================] - 0s 29ms/step - loss: 1.3947e-06 - accuracy: 1.0000\n"
     ]
    },
    {
     "data": {
      "image/png": "[encoded data removed]",
      "text/plain": [
       "<Figure size 432x288 with 1 Axes>"
      ]
     },
     "metadata": {
      "needs_background": "light"
     },
     "output_type": "display_data"
    },
    {
     "data": {
      "image/png": "[encoded data removed]",
      "text/plain": [
       "<Figure size 432x288 with 1 Axes>"
      ]
     },
     "metadata": {
      "needs_background": "light"
     },
     "output_type": "display_data"
    }
   ],
   "source": [
    "### YOUR CODE HERE ###\n",
    "#CANNOT USE VALIDATION FOR SMALL DATASET OF SIZE 10, BECAUSE SOME OF THE NUMBERS HAVENT BEEN TRAINED\n",
    "#EG FIRST 10 NUMBERS ARE 5, 0, 4, 1, 9, 2, 1, 3, 1, and 4. This means that if 5, 0, 9, 2 or 3 are in the\n",
    "#validation set they have not been trained and so will most likley be wrong.\n",
    "model = make_model()\n",
    "optim = Adam(learning_rate = 10)\n",
    "model.compile(loss='categorical_crossentropy', optimizer = 'adam',\n",
    "              metrics=['accuracy'])\n",
    "x_ten_train = x_train[0:10]\n",
    "print(x_ten_train.shape)\n",
    "y_ten_enc = y_enc[0:10]\n",
    "print(y_ten_enc)\n",
    "print(y_ten_enc.shape)\n",
    "hist = model.fit(x_ten_train, y_ten_enc,\n",
    "                    epochs = 6, \n",
    "                   batch_size = 10,\n",
    "                    validation_split = 0,\n",
    "                    verbose = 1)\n",
    "\n",
    "plot_losses_no_val(hist)\n",
    "plot_accuracies_no_val(hist)"
   ]
  },
  {
   "cell_type": "markdown",
   "metadata": {
    "id": "OXdVut4462qR"
   },
   "source": [
    "#### Step 4) Try different activation function (5pt)\n",
    "\n",
    "Try at least 3 different activtation functions other than relu. Report the result. \n",
    "\n"
   ]
  },
  {
   "cell_type": "code",
   "execution_count": 8,
   "metadata": {
    "id": "Q86pN2Tw7UmW"
   },
   "outputs": [
    {
     "name": "stdout",
     "output_type": "stream",
     "text": [
      "Model: \"sequential_3\"\n",
      "_________________________________________________________________\n",
      "Layer (type)                 Output Shape              Param #   \n",
      "=================================================================\n",
      "conv2d_3 (Conv2D)            (None, 26, 26, 32)        320       \n",
      "_________________________________________________________________\n",
      "batch_normalization_6 (Batch (None, 26, 26, 32)        128       \n",
      "_________________________________________________________________\n",
      "activation_7 (Activation)    (None, 26, 26, 32)        0         \n",
      "_________________________________________________________________\n",
      "flatten_3 (Flatten)          (None, 21632)             0         \n",
      "_________________________________________________________________\n",
      "batch_normalization_7 (Batch (None, 21632)             86528     \n",
      "_________________________________________________________________\n",
      "dense_4 (Dense)              (None, 30)                648990    \n",
      "_________________________________________________________________\n",
      "dense_5 (Dense)              (None, 10)                310       \n",
      "=================================================================\n",
      "Total params: 736,276\n",
      "Trainable params: 692,948\n",
      "Non-trainable params: 43,328\n",
      "_________________________________________________________________\n",
      "Epoch 1/6\n",
      "94/94 [==============================] - 39s 346ms/step - loss: 1.2086 - accuracy: 0.8125 - val_loss: 4.5628 - val_accuracy: 0.2103\n",
      "Epoch 2/6\n",
      "94/94 [==============================] - 30s 324ms/step - loss: 0.5296 - accuracy: 0.9034 - val_loss: 5.3163 - val_accuracy: 0.2010\n",
      "Epoch 3/6\n",
      "94/94 [==============================] - 30s 315ms/step - loss: 0.3344 - accuracy: 0.9291 - val_loss: 4.3962 - val_accuracy: 0.3364\n",
      "Epoch 4/6\n",
      "94/94 [==============================] - 29s 312ms/step - loss: 0.1938 - accuracy: 0.9521 - val_loss: 1.9708 - val_accuracy: 0.5880\n",
      "Epoch 5/6\n",
      "94/94 [==============================] - 30s 319ms/step - loss: 0.1397 - accuracy: 0.9625 - val_loss: 1.1204 - val_accuracy: 0.7407\n",
      "Epoch 6/6\n",
      "94/94 [==============================] - 29s 309ms/step - loss: 0.1102 - accuracy: 0.9690 - val_loss: 0.2711 - val_accuracy: 0.9345\n"
     ]
    },
    {
     "data": {
      "image/png": "[encoded data removed]",
      "text/plain": [
       "<Figure size 432x288 with 1 Axes>"
      ]
     },
     "metadata": {
      "needs_background": "light"
     },
     "output_type": "display_data"
    },
    {
     "data": {
      "image/png": "[encoded data removed]",
      "text/plain": [
       "<Figure size 432x288 with 1 Axes>"
      ]
     },
     "metadata": {
      "needs_background": "light"
     },
     "output_type": "display_data"
    }
   ],
   "source": [
    "### YOUR CODE HERE ###\n",
    "def make_model_2():\n",
    "    model = Sequential()                                 # Linear stacking of layers\n",
    "\n",
    "    # Convolution Layer 1\n",
    "    model.add(Conv2D(32, (3, 3), input_shape=(28,28,1))) # 32 different 3x3 kernels -- so 32 feature maps\n",
    "    model.add(BatchNormalization(axis=-1))               # normalize each feature map before activation\n",
    "    model.add(Activation('sigmoid'))                  # activation\n",
    "    model.add(Flatten())       \n",
    "    model.add(BatchNormalization()) \n",
    "    model.add(Dense(units = 30, activation = 'linear'))  \n",
    "    model.add(Dense(units = 10, activation = 'softmax'))           \n",
    "    return model\n",
    "    \n",
    "model = make_model_2()\n",
    "optim = Adam(learning_rate = .001)\n",
    "model.compile(loss='categorical_crossentropy', optimizer = 'adam',\n",
    "              metrics=['accuracy'])\n",
    "model.summary()\n",
    "hist = model.fit(x_train, y_enc,\n",
    "                    epochs = 6, \n",
    "                   batch_size = 512,\n",
    "                    validation_split = 0.2,\n",
    "                    verbose = 1)\n",
    "\n",
    "plot_losses(hist)\n",
    "plot_accuracies(hist)"
   ]
  },
  {
   "cell_type": "code",
   "execution_count": 9,
   "metadata": {},
   "outputs": [
    {
     "name": "stdout",
     "output_type": "stream",
     "text": [
      "Model: \"sequential_4\"\n",
      "_________________________________________________________________\n",
      "Layer (type)                 Output Shape              Param #   \n",
      "=================================================================\n",
      "conv2d_4 (Conv2D)            (None, 26, 26, 32)        320       \n",
      "_________________________________________________________________\n",
      "batch_normalization_8 (Batch (None, 26, 26, 32)        128       \n",
      "_________________________________________________________________\n",
      "activation_8 (Activation)    (None, 26, 26, 32)        0         \n",
      "_________________________________________________________________\n",
      "flatten_4 (Flatten)          (None, 21632)             0         \n",
      "_________________________________________________________________\n",
      "batch_normalization_9 (Batch (None, 21632)             86528     \n",
      "_________________________________________________________________\n",
      "dense_6 (Dense)              (None, 30)                648990    \n",
      "_________________________________________________________________\n",
      "dense_7 (Dense)              (None, 10)                310       \n",
      "=================================================================\n",
      "Total params: 736,276\n",
      "Trainable params: 692,948\n",
      "Non-trainable params: 43,328\n",
      "_________________________________________________________________\n",
      "Epoch 1/6\n",
      "94/94 [==============================] - 37s 329ms/step - loss: 1.2935 - accuracy: 0.8095 - val_loss: 1.7835 - val_accuracy: 0.5491\n",
      "Epoch 2/6\n",
      "94/94 [==============================] - 29s 314ms/step - loss: 0.4110 - accuracy: 0.9291 - val_loss: 4.2212 - val_accuracy: 0.4220\n",
      "Epoch 3/6\n",
      "94/94 [==============================] - 29s 313ms/step - loss: 0.2524 - accuracy: 0.9506 - val_loss: 4.0453 - val_accuracy: 0.4770\n",
      "Epoch 4/6\n",
      "94/94 [==============================] - 30s 322ms/step - loss: 0.1367 - accuracy: 0.9698 - val_loss: 3.8938 - val_accuracy: 0.5466\n",
      "Epoch 5/6\n",
      "94/94 [==============================] - 31s 329ms/step - loss: 0.1142 - accuracy: 0.9729 - val_loss: 1.1660 - val_accuracy: 0.7717\n",
      "Epoch 6/6\n",
      "94/94 [==============================] - 30s 320ms/step - loss: 0.0948 - accuracy: 0.9773 - val_loss: 0.5448 - val_accuracy: 0.8893\n"
     ]
    },
    {
     "data": {
      "image/png": "[encoded data removed]",
      "text/plain": [
       "<Figure size 432x288 with 1 Axes>"
      ]
     },
     "metadata": {
      "needs_background": "light"
     },
     "output_type": "display_data"
    },
    {
     "data": {
      "image/png": "[encoded data removed]",
      "text/plain": [
       "<Figure size 432x288 with 1 Axes>"
      ]
     },
     "metadata": {
      "needs_background": "light"
     },
     "output_type": "display_data"
    }
   ],
   "source": [
    "def make_model_3():\n",
    "    model = Sequential()                                 # Linear stacking of layers\n",
    "\n",
    "    # Convolution Layer 1\n",
    "    model.add(Conv2D(32, (3, 3), input_shape=(28,28,1))) # 32 different 3x3 kernels -- so 32 feature maps\n",
    "    model.add(BatchNormalization(axis=-1))               # normalize each feature map before activation\n",
    "    model.add(Activation('tanh'))                  # activation\n",
    "    model.add(Flatten())       \n",
    "    model.add(BatchNormalization()) \n",
    "    model.add(Dense(units = 30, activation = 'linear'))  \n",
    "    model.add(Dense(units = 10, activation = 'softmax'))           \n",
    "    return model\n",
    "    \n",
    "model = make_model_3()\n",
    "optim = Adam(learning_rate = .001)\n",
    "model.compile(loss='categorical_crossentropy', optimizer = 'adam',\n",
    "              metrics=['accuracy'])\n",
    "model.summary()\n",
    "hist = model.fit(x_train, y_enc,\n",
    "                    epochs = 6, \n",
    "                   batch_size = 512,\n",
    "                    validation_split = 0.2,\n",
    "                    verbose = 1)\n",
    "\n",
    "plot_losses(hist)\n",
    "plot_accuracies(hist)"
   ]
  },
  {
   "cell_type": "code",
   "execution_count": 10,
   "metadata": {},
   "outputs": [
    {
     "name": "stdout",
     "output_type": "stream",
     "text": [
      "Model: \"sequential_5\"\n",
      "_________________________________________________________________\n",
      "Layer (type)                 Output Shape              Param #   \n",
      "=================================================================\n",
      "conv2d_5 (Conv2D)            (None, 26, 26, 32)        320       \n",
      "_________________________________________________________________\n",
      "batch_normalization_10 (Batc (None, 26, 26, 32)        128       \n",
      "_________________________________________________________________\n",
      "activation_9 (Activation)    (None, 26, 26, 32)        0         \n",
      "_________________________________________________________________\n",
      "flatten_5 (Flatten)          (None, 21632)             0         \n",
      "_________________________________________________________________\n",
      "batch_normalization_11 (Batc (None, 21632)             86528     \n",
      "_________________________________________________________________\n",
      "dense_8 (Dense)              (None, 30)                648990    \n",
      "_________________________________________________________________\n",
      "dense_9 (Dense)              (None, 10)                310       \n",
      "=================================================================\n",
      "Total params: 736,276\n",
      "Trainable params: 692,948\n",
      "Non-trainable params: 43,328\n",
      "_________________________________________________________________\n",
      "Epoch 1/6\n",
      "94/94 [==============================] - 48s 406ms/step - loss: 1.2444 - accuracy: 0.8178 - val_loss: 3.1650 - val_accuracy: 0.3039\n",
      "Epoch 2/6\n",
      "94/94 [==============================] - 35s 369ms/step - loss: 0.3463 - accuracy: 0.9407 - val_loss: 4.6323 - val_accuracy: 0.3209\n",
      "Epoch 3/6\n",
      "94/94 [==============================] - 32s 344ms/step - loss: 0.1855 - accuracy: 0.9636 - val_loss: 3.7980 - val_accuracy: 0.5166\n",
      "Epoch 4/6\n",
      "94/94 [==============================] - 32s 342ms/step - loss: 0.1369 - accuracy: 0.9717 - val_loss: 2.3775 - val_accuracy: 0.6863\n",
      "Epoch 5/6\n",
      "94/94 [==============================] - 29s 313ms/step - loss: 0.1069 - accuracy: 0.9753 - val_loss: 2.0298 - val_accuracy: 0.7197\n",
      "Epoch 6/6\n",
      "94/94 [==============================] - 29s 308ms/step - loss: 0.0766 - accuracy: 0.9819 - val_loss: 0.8383 - val_accuracy: 0.8659\n"
     ]
    },
    {
     "data": {
      "image/png": "[encoded data removed]",
      "text/plain": [
       "<Figure size 432x288 with 1 Axes>"
      ]
     },
     "metadata": {
      "needs_background": "light"
     },
     "output_type": "display_data"
    },
    {
     "data": {
      "image/png": "[encoded data removed]",
      "text/plain": [
       "<Figure size 432x288 with 1 Axes>"
      ]
     },
     "metadata": {
      "needs_background": "light"
     },
     "output_type": "display_data"
    }
   ],
   "source": [
    "def make_model_4():\n",
    "    model = Sequential()                                 # Linear stacking of layers\n",
    "\n",
    "    # Convolution Layer 1\n",
    "    model.add(Conv2D(32, (3, 3), input_shape=(28,28,1))) # 32 different 3x3 kernels -- so 32 feature maps\n",
    "    model.add(BatchNormalization(axis=-1))               # normalize each feature map before activation\n",
    "    model.add(Activation('elu'))                  # activation\n",
    "    model.add(Flatten())       \n",
    "    model.add(BatchNormalization()) \n",
    "    model.add(Dense(units = 30, activation = 'linear'))  \n",
    "    model.add(Dense(units = 10, activation = 'softmax'))           \n",
    "    return model\n",
    "    \n",
    "model = make_model_4()\n",
    "optim = Adam(learning_rate = .001)\n",
    "model.compile(loss='categorical_crossentropy', optimizer = 'adam',\n",
    "              metrics=['accuracy'])\n",
    "model.summary()\n",
    "hist = model.fit(x_train, y_enc,\n",
    "                    epochs = 6, \n",
    "                   batch_size = 512,\n",
    "                    validation_split = 0.2,\n",
    "                    verbose = 1)\n",
    "\n",
    "plot_losses(hist)\n",
    "plot_accuracies(hist)"
   ]
  },
  {
   "cell_type": "markdown",
   "metadata": {
    "id": "vlfZqKrW7YJu"
   },
   "source": [
    "[YOUR ANSWER HERE]"
   ]
  },
  {
   "cell_type": "markdown",
   "metadata": {},
   "source": [
    "#### Step5) (Bonus) Data Augmentation (5pt)\n",
    "Try improving the result of your model by generating more training data by augmentation. Using the `ImageDataGenerator` in keras: https://keras.io/api/preprocessing/image/"
   ]
  },
  {
   "cell_type": "code",
   "execution_count": 11,
   "metadata": {
    "id": "Q86pN2Tw7UmW"
   },
   "outputs": [],
   "source": [
    "### YOUR CODE HERE ###"
   ]
  },
  {
   "cell_type": "markdown",
   "metadata": {
    "id": "vlfZqKrW7YJu"
   },
   "source": [
    "[YOUR ANSWER HERE]"
   ]
  },
  {
   "cell_type": "markdown",
   "metadata": {
    "id": "L6t_qjLr7-uf"
   },
   "source": [
    "## Question 2 - Transfer Learning (20pt)\n",
    "---\n",
    "For many image classification tasks, it is generally not a good idea to train a very large deep neural network model from scratch due to the enormous compute requirements and lack of sufficient amounts of training data.\n",
    "\n",
    "One of the better options is to try using an existing model that performs a similar task to the one you need to solve. This method of utilizing a pre-trained network for other similar tasks is broadly termed Transfer Learning. In this assignment, we will use Transfer Learning to extract features from the MNIST images. Then, train a smaller network to use these features as input and classify the digits.\n",
    "\n",
    "As you have learned from the lecture, convolution layers extract various features from the images which get utilized by the fully connected layers for correct classification."
   ]
  },
  {
   "cell_type": "markdown",
   "metadata": {
    "id": "UHk-PPM8KfZW"
   },
   "source": [
    "Keras has pretrained models built in for this purpose. \n",
    "\n",
    "#### Keras Pretrained Models\n",
    "        Xception\n",
    "        VGG16\n",
    "        VGG19\n",
    "        ResNet, ResNetV2, ResNeXt\n",
    "        InceptionV3\n",
    "        InceptionResNetV2\n",
    "        MobileNet\n",
    "        MobileNetV2\n",
    "        DenseNet\n",
    "        NASNet\n",
    "\n",
    "Usually one uses the layers of the pretrained model up to some point, and then creates some fully connected layers to learn the desired recognition task. The earlier layers are \"frozen\", and only the later layers need to be trained. We'll use ResNet50, which was trained to recognize 1000 objects in ImageNet. What we're doing here for our classifier may be akin to killing a fly with a shotgun, but the same process can be used to recognize objects the original network couldn't (i.e., you could use this technique to train your computer to recognize family and friends)."
   ]
  },
  {
   "cell_type": "code",
   "execution_count": 12,
   "metadata": {
    "id": "Z7CNXqACKgQz"
   },
   "outputs": [],
   "source": [
    "# Some stuff we'll need...\n",
    "from tensorflow.keras.layers import Input\n",
    "from tensorflow.keras.applications.resnet import ResNet50, preprocess_input\n",
    "from tensorflow.keras.preprocessing import image\n",
    "from tensorflow.keras.models import Sequential, Model\n",
    "from keras.applications.resnet import ResNet50\n",
    "from keras.layers import GlobalMaxPooling2D,GlobalAveragePooling2D\n"
   ]
  },
  {
   "cell_type": "markdown",
   "metadata": {
    "id": "F4FK6jBJKxcC"
   },
   "source": [
    "Creating this pretrained network is a one line command. Notice we specified that the \"top\" should not be included. We aren't classifying 1000 different categories like ImageNet, so we don't include that layer. We'll add our own layer more suited to the task at hand.\n",
    "\n",
    "We choose (32, 32, 3) as our input dimension, despite the fact that mnist data is (28, 28, 1), because the pretrained ResNet50 has restaint on the input dimension to be at least (32, 32) and 3 color channels. We will have to add padding around the mnist data to make it (32,32, 3). This will be done later. "
   ]
  },
  {
   "cell_type": "code",
   "execution_count": 13,
   "metadata": {
    "colab": {
     "base_uri": "https://localhost:8080/"
    },
    "id": "KR7DziD7KqEX",
    "outputId": "35ddeb94-066b-457e-c65b-5360ed625cb7"
   },
   "outputs": [
    {
     "name": "stdout",
     "output_type": "stream",
     "text": [
      "<class 'keras.engine.keras_tensor.KerasTensor'>\n"
     ]
    }
   ],
   "source": [
    "# Import the ResNet50 trained neural network model, minus it's last (top) neuron layer.\n",
    "base_model = ResNet50(weights = 'imagenet', \n",
    "                   include_top = False, \n",
    "                   input_shape = (32, 32, 3), \n",
    "                   pooling = None)\n",
    "x = base_model.output\n",
    "print(type(x))"
   ]
  },
  {
   "cell_type": "markdown",
   "metadata": {
    "id": "B6HReXu8K3wh"
   },
   "source": [
    "Let's take a look at this pretrained model:"
   ]
  },
  {
   "cell_type": "code",
   "execution_count": 14,
   "metadata": {
    "colab": {
     "base_uri": "https://localhost:8080/"
    },
    "id": "gPhnajBAKyKm",
    "outputId": "cef12b8d-f2bb-481c-d01c-679e9765f484",
    "scrolled": true
   },
   "outputs": [
    {
     "name": "stdout",
     "output_type": "stream",
     "text": [
      "Model: \"resnet50\"\n",
      "__________________________________________________________________________________________________\n",
      "Layer (type)                    Output Shape         Param #     Connected to                     \n",
      "==================================================================================================\n",
      "input_1 (InputLayer)            [(None, 32, 32, 3)]  0                                            \n",
      "__________________________________________________________________________________________________\n",
      "conv1_pad (ZeroPadding2D)       (None, 38, 38, 3)    0           input_1[0][0]                    \n",
      "__________________________________________________________________________________________________\n",
      "conv1_conv (Conv2D)             (None, 16, 16, 64)   9472        conv1_pad[0][0]                  \n",
      "__________________________________________________________________________________________________\n",
      "conv1_bn (BatchNormalization)   (None, 16, 16, 64)   256         conv1_conv[0][0]                 \n",
      "__________________________________________________________________________________________________\n",
      "conv1_relu (Activation)         (None, 16, 16, 64)   0           conv1_bn[0][0]                   \n",
      "__________________________________________________________________________________________________\n",
      "pool1_pad (ZeroPadding2D)       (None, 18, 18, 64)   0           conv1_relu[0][0]                 \n",
      "__________________________________________________________________________________________________\n",
      "pool1_pool (MaxPooling2D)       (None, 8, 8, 64)     0           pool1_pad[0][0]                  \n",
      "__________________________________________________________________________________________________\n",
      "conv2_block1_1_conv (Conv2D)    (None, 8, 8, 64)     4160        pool1_pool[0][0]                 \n",
      "__________________________________________________________________________________________________\n",
      "conv2_block1_1_bn (BatchNormali (None, 8, 8, 64)     256         conv2_block1_1_conv[0][0]        \n",
      "__________________________________________________________________________________________________\n",
      "conv2_block1_1_relu (Activation (None, 8, 8, 64)     0           conv2_block1_1_bn[0][0]          \n",
      "__________________________________________________________________________________________________\n",
      "conv2_block1_2_conv (Conv2D)    (None, 8, 8, 64)     36928       conv2_block1_1_relu[0][0]        \n",
      "__________________________________________________________________________________________________\n",
      "conv2_block1_2_bn (BatchNormali (None, 8, 8, 64)     256         conv2_block1_2_conv[0][0]        \n",
      "__________________________________________________________________________________________________\n",
      "conv2_block1_2_relu (Activation (None, 8, 8, 64)     0           conv2_block1_2_bn[0][0]          \n",
      "__________________________________________________________________________________________________\n",
      "conv2_block1_0_conv (Conv2D)    (None, 8, 8, 256)    16640       pool1_pool[0][0]                 \n",
      "__________________________________________________________________________________________________\n",
      "conv2_block1_3_conv (Conv2D)    (None, 8, 8, 256)    16640       conv2_block1_2_relu[0][0]        \n",
      "__________________________________________________________________________________________________\n",
      "conv2_block1_0_bn (BatchNormali (None, 8, 8, 256)    1024        conv2_block1_0_conv[0][0]        \n",
      "__________________________________________________________________________________________________\n",
      "conv2_block1_3_bn (BatchNormali (None, 8, 8, 256)    1024        conv2_block1_3_conv[0][0]        \n",
      "__________________________________________________________________________________________________\n",
      "conv2_block1_add (Add)          (None, 8, 8, 256)    0           conv2_block1_0_bn[0][0]          \n",
      "                                                                 conv2_block1_3_bn[0][0]          \n",
      "__________________________________________________________________________________________________\n",
      "conv2_block1_out (Activation)   (None, 8, 8, 256)    0           conv2_block1_add[0][0]           \n",
      "__________________________________________________________________________________________________\n",
      "conv2_block2_1_conv (Conv2D)    (None, 8, 8, 64)     16448       conv2_block1_out[0][0]           \n",
      "__________________________________________________________________________________________________\n",
      "conv2_block2_1_bn (BatchNormali (None, 8, 8, 64)     256         conv2_block2_1_conv[0][0]        \n",
      "__________________________________________________________________________________________________\n",
      "conv2_block2_1_relu (Activation (None, 8, 8, 64)     0           conv2_block2_1_bn[0][0]          \n",
      "__________________________________________________________________________________________________\n",
      "conv2_block2_2_conv (Conv2D)    (None, 8, 8, 64)     36928       conv2_block2_1_relu[0][0]        \n",
      "__________________________________________________________________________________________________\n",
      "conv2_block2_2_bn (BatchNormali (None, 8, 8, 64)     256         conv2_block2_2_conv[0][0]        \n",
      "__________________________________________________________________________________________________\n",
      "conv2_block2_2_relu (Activation (None, 8, 8, 64)     0           conv2_block2_2_bn[0][0]          \n",
      "__________________________________________________________________________________________________\n",
      "conv2_block2_3_conv (Conv2D)    (None, 8, 8, 256)    16640       conv2_block2_2_relu[0][0]        \n",
      "__________________________________________________________________________________________________\n",
      "conv2_block2_3_bn (BatchNormali (None, 8, 8, 256)    1024        conv2_block2_3_conv[0][0]        \n",
      "__________________________________________________________________________________________________\n",
      "conv2_block2_add (Add)          (None, 8, 8, 256)    0           conv2_block1_out[0][0]           \n",
      "                                                                 conv2_block2_3_bn[0][0]          \n",
      "__________________________________________________________________________________________________\n",
      "conv2_block2_out (Activation)   (None, 8, 8, 256)    0           conv2_block2_add[0][0]           \n",
      "__________________________________________________________________________________________________\n",
      "conv2_block3_1_conv (Conv2D)    (None, 8, 8, 64)     16448       conv2_block2_out[0][0]           \n",
      "__________________________________________________________________________________________________\n",
      "conv2_block3_1_bn (BatchNormali (None, 8, 8, 64)     256         conv2_block3_1_conv[0][0]        \n",
      "__________________________________________________________________________________________________\n",
      "conv2_block3_1_relu (Activation (None, 8, 8, 64)     0           conv2_block3_1_bn[0][0]          \n",
      "__________________________________________________________________________________________________\n",
      "conv2_block3_2_conv (Conv2D)    (None, 8, 8, 64)     36928       conv2_block3_1_relu[0][0]        \n",
      "__________________________________________________________________________________________________\n",
      "conv2_block3_2_bn (BatchNormali (None, 8, 8, 64)     256         conv2_block3_2_conv[0][0]        \n",
      "__________________________________________________________________________________________________\n",
      "conv2_block3_2_relu (Activation (None, 8, 8, 64)     0           conv2_block3_2_bn[0][0]          \n",
      "__________________________________________________________________________________________________\n",
      "conv2_block3_3_conv (Conv2D)    (None, 8, 8, 256)    16640       conv2_block3_2_relu[0][0]        \n",
      "__________________________________________________________________________________________________\n",
      "conv2_block3_3_bn (BatchNormali (None, 8, 8, 256)    1024        conv2_block3_3_conv[0][0]        \n",
      "__________________________________________________________________________________________________\n",
      "conv2_block3_add (Add)          (None, 8, 8, 256)    0           conv2_block2_out[0][0]           \n",
      "                                                                 conv2_block3_3_bn[0][0]          \n",
      "__________________________________________________________________________________________________\n",
      "conv2_block3_out (Activation)   (None, 8, 8, 256)    0           conv2_block3_add[0][0]           \n",
      "__________________________________________________________________________________________________\n",
      "conv3_block1_1_conv (Conv2D)    (None, 4, 4, 128)    32896       conv2_block3_out[0][0]           \n",
      "__________________________________________________________________________________________________\n",
      "conv3_block1_1_bn (BatchNormali (None, 4, 4, 128)    512         conv3_block1_1_conv[0][0]        \n",
      "__________________________________________________________________________________________________\n",
      "conv3_block1_1_relu (Activation (None, 4, 4, 128)    0           conv3_block1_1_bn[0][0]          \n",
      "__________________________________________________________________________________________________\n",
      "conv3_block1_2_conv (Conv2D)    (None, 4, 4, 128)    147584      conv3_block1_1_relu[0][0]        \n",
      "__________________________________________________________________________________________________\n",
      "conv3_block1_2_bn (BatchNormali (None, 4, 4, 128)    512         conv3_block1_2_conv[0][0]        \n",
      "__________________________________________________________________________________________________\n",
      "conv3_block1_2_relu (Activation (None, 4, 4, 128)    0           conv3_block1_2_bn[0][0]          \n",
      "__________________________________________________________________________________________________\n",
      "conv3_block1_0_conv (Conv2D)    (None, 4, 4, 512)    131584      conv2_block3_out[0][0]           \n",
      "__________________________________________________________________________________________________\n",
      "conv3_block1_3_conv (Conv2D)    (None, 4, 4, 512)    66048       conv3_block1_2_relu[0][0]        \n",
      "__________________________________________________________________________________________________\n",
      "conv3_block1_0_bn (BatchNormali (None, 4, 4, 512)    2048        conv3_block1_0_conv[0][0]        \n",
      "__________________________________________________________________________________________________\n",
      "conv3_block1_3_bn (BatchNormali (None, 4, 4, 512)    2048        conv3_block1_3_conv[0][0]        \n",
      "__________________________________________________________________________________________________\n",
      "conv3_block1_add (Add)          (None, 4, 4, 512)    0           conv3_block1_0_bn[0][0]          \n",
      "                                                                 conv3_block1_3_bn[0][0]          \n",
      "__________________________________________________________________________________________________\n",
      "conv3_block1_out (Activation)   (None, 4, 4, 512)    0           conv3_block1_add[0][0]           \n",
      "__________________________________________________________________________________________________\n",
      "conv3_block2_1_conv (Conv2D)    (None, 4, 4, 128)    65664       conv3_block1_out[0][0]           \n",
      "__________________________________________________________________________________________________\n",
      "conv3_block2_1_bn (BatchNormali (None, 4, 4, 128)    512         conv3_block2_1_conv[0][0]        \n",
      "__________________________________________________________________________________________________\n",
      "conv3_block2_1_relu (Activation (None, 4, 4, 128)    0           conv3_block2_1_bn[0][0]          \n",
      "__________________________________________________________________________________________________\n",
      "conv3_block2_2_conv (Conv2D)    (None, 4, 4, 128)    147584      conv3_block2_1_relu[0][0]        \n",
      "__________________________________________________________________________________________________\n",
      "conv3_block2_2_bn (BatchNormali (None, 4, 4, 128)    512         conv3_block2_2_conv[0][0]        \n",
      "__________________________________________________________________________________________________\n",
      "conv3_block2_2_relu (Activation (None, 4, 4, 128)    0           conv3_block2_2_bn[0][0]          \n",
      "__________________________________________________________________________________________________\n",
      "conv3_block2_3_conv (Conv2D)    (None, 4, 4, 512)    66048       conv3_block2_2_relu[0][0]        \n",
      "__________________________________________________________________________________________________\n",
      "conv3_block2_3_bn (BatchNormali (None, 4, 4, 512)    2048        conv3_block2_3_conv[0][0]        \n",
      "__________________________________________________________________________________________________\n",
      "conv3_block2_add (Add)          (None, 4, 4, 512)    0           conv3_block1_out[0][0]           \n",
      "                                                                 conv3_block2_3_bn[0][0]          \n",
      "__________________________________________________________________________________________________\n",
      "conv3_block2_out (Activation)   (None, 4, 4, 512)    0           conv3_block2_add[0][0]           \n",
      "__________________________________________________________________________________________________\n",
      "conv3_block3_1_conv (Conv2D)    (None, 4, 4, 128)    65664       conv3_block2_out[0][0]           \n",
      "__________________________________________________________________________________________________\n",
      "conv3_block3_1_bn (BatchNormali (None, 4, 4, 128)    512         conv3_block3_1_conv[0][0]        \n",
      "__________________________________________________________________________________________________\n",
      "conv3_block3_1_relu (Activation (None, 4, 4, 128)    0           conv3_block3_1_bn[0][0]          \n",
      "__________________________________________________________________________________________________\n",
      "conv3_block3_2_conv (Conv2D)    (None, 4, 4, 128)    147584      conv3_block3_1_relu[0][0]        \n",
      "__________________________________________________________________________________________________\n",
      "conv3_block3_2_bn (BatchNormali (None, 4, 4, 128)    512         conv3_block3_2_conv[0][0]        \n",
      "__________________________________________________________________________________________________\n",
      "conv3_block3_2_relu (Activation (None, 4, 4, 128)    0           conv3_block3_2_bn[0][0]          \n",
      "__________________________________________________________________________________________________\n",
      "conv3_block3_3_conv (Conv2D)    (None, 4, 4, 512)    66048       conv3_block3_2_relu[0][0]        \n",
      "__________________________________________________________________________________________________\n",
      "conv3_block3_3_bn (BatchNormali (None, 4, 4, 512)    2048        conv3_block3_3_conv[0][0]        \n",
      "__________________________________________________________________________________________________\n",
      "conv3_block3_add (Add)          (None, 4, 4, 512)    0           conv3_block2_out[0][0]           \n",
      "                                                                 conv3_block3_3_bn[0][0]          \n",
      "__________________________________________________________________________________________________\n",
      "conv3_block3_out (Activation)   (None, 4, 4, 512)    0           conv3_block3_add[0][0]           \n",
      "__________________________________________________________________________________________________\n",
      "conv3_block4_1_conv (Conv2D)    (None, 4, 4, 128)    65664       conv3_block3_out[0][0]           \n",
      "__________________________________________________________________________________________________\n",
      "conv3_block4_1_bn (BatchNormali (None, 4, 4, 128)    512         conv3_block4_1_conv[0][0]        \n",
      "__________________________________________________________________________________________________\n",
      "conv3_block4_1_relu (Activation (None, 4, 4, 128)    0           conv3_block4_1_bn[0][0]          \n",
      "__________________________________________________________________________________________________\n",
      "conv3_block4_2_conv (Conv2D)    (None, 4, 4, 128)    147584      conv3_block4_1_relu[0][0]        \n",
      "__________________________________________________________________________________________________\n",
      "conv3_block4_2_bn (BatchNormali (None, 4, 4, 128)    512         conv3_block4_2_conv[0][0]        \n",
      "__________________________________________________________________________________________________\n",
      "conv3_block4_2_relu (Activation (None, 4, 4, 128)    0           conv3_block4_2_bn[0][0]          \n",
      "__________________________________________________________________________________________________\n",
      "conv3_block4_3_conv (Conv2D)    (None, 4, 4, 512)    66048       conv3_block4_2_relu[0][0]        \n",
      "__________________________________________________________________________________________________\n",
      "conv3_block4_3_bn (BatchNormali (None, 4, 4, 512)    2048        conv3_block4_3_conv[0][0]        \n",
      "__________________________________________________________________________________________________\n",
      "conv3_block4_add (Add)          (None, 4, 4, 512)    0           conv3_block3_out[0][0]           \n",
      "                                                                 conv3_block4_3_bn[0][0]          \n",
      "__________________________________________________________________________________________________\n",
      "conv3_block4_out (Activation)   (None, 4, 4, 512)    0           conv3_block4_add[0][0]           \n",
      "__________________________________________________________________________________________________\n",
      "conv4_block1_1_conv (Conv2D)    (None, 2, 2, 256)    131328      conv3_block4_out[0][0]           \n",
      "__________________________________________________________________________________________________\n",
      "conv4_block1_1_bn (BatchNormali (None, 2, 2, 256)    1024        conv4_block1_1_conv[0][0]        \n",
      "__________________________________________________________________________________________________\n",
      "conv4_block1_1_relu (Activation (None, 2, 2, 256)    0           conv4_block1_1_bn[0][0]          \n",
      "__________________________________________________________________________________________________\n",
      "conv4_block1_2_conv (Conv2D)    (None, 2, 2, 256)    590080      conv4_block1_1_relu[0][0]        \n",
      "__________________________________________________________________________________________________\n",
      "conv4_block1_2_bn (BatchNormali (None, 2, 2, 256)    1024        conv4_block1_2_conv[0][0]        \n",
      "__________________________________________________________________________________________________\n",
      "conv4_block1_2_relu (Activation (None, 2, 2, 256)    0           conv4_block1_2_bn[0][0]          \n",
      "__________________________________________________________________________________________________\n",
      "conv4_block1_0_conv (Conv2D)    (None, 2, 2, 1024)   525312      conv3_block4_out[0][0]           \n",
      "__________________________________________________________________________________________________\n",
      "conv4_block1_3_conv (Conv2D)    (None, 2, 2, 1024)   263168      conv4_block1_2_relu[0][0]        \n",
      "__________________________________________________________________________________________________\n",
      "conv4_block1_0_bn (BatchNormali (None, 2, 2, 1024)   4096        conv4_block1_0_conv[0][0]        \n",
      "__________________________________________________________________________________________________\n",
      "conv4_block1_3_bn (BatchNormali (None, 2, 2, 1024)   4096        conv4_block1_3_conv[0][0]        \n",
      "__________________________________________________________________________________________________\n",
      "conv4_block1_add (Add)          (None, 2, 2, 1024)   0           conv4_block1_0_bn[0][0]          \n",
      "                                                                 conv4_block1_3_bn[0][0]          \n",
      "__________________________________________________________________________________________________\n",
      "conv4_block1_out (Activation)   (None, 2, 2, 1024)   0           conv4_block1_add[0][0]           \n",
      "__________________________________________________________________________________________________\n",
      "conv4_block2_1_conv (Conv2D)    (None, 2, 2, 256)    262400      conv4_block1_out[0][0]           \n",
      "__________________________________________________________________________________________________\n",
      "conv4_block2_1_bn (BatchNormali (None, 2, 2, 256)    1024        conv4_block2_1_conv[0][0]        \n",
      "__________________________________________________________________________________________________\n",
      "conv4_block2_1_relu (Activation (None, 2, 2, 256)    0           conv4_block2_1_bn[0][0]          \n",
      "__________________________________________________________________________________________________\n",
      "conv4_block2_2_conv (Conv2D)    (None, 2, 2, 256)    590080      conv4_block2_1_relu[0][0]        \n",
      "__________________________________________________________________________________________________\n",
      "conv4_block2_2_bn (BatchNormali (None, 2, 2, 256)    1024        conv4_block2_2_conv[0][0]        \n",
      "__________________________________________________________________________________________________\n",
      "conv4_block2_2_relu (Activation (None, 2, 2, 256)    0           conv4_block2_2_bn[0][0]          \n",
      "__________________________________________________________________________________________________\n",
      "conv4_block2_3_conv (Conv2D)    (None, 2, 2, 1024)   263168      conv4_block2_2_relu[0][0]        \n",
      "__________________________________________________________________________________________________\n",
      "conv4_block2_3_bn (BatchNormali (None, 2, 2, 1024)   4096        conv4_block2_3_conv[0][0]        \n",
      "__________________________________________________________________________________________________\n",
      "conv4_block2_add (Add)          (None, 2, 2, 1024)   0           conv4_block1_out[0][0]           \n",
      "                                                                 conv4_block2_3_bn[0][0]          \n",
      "__________________________________________________________________________________________________\n",
      "conv4_block2_out (Activation)   (None, 2, 2, 1024)   0           conv4_block2_add[0][0]           \n",
      "__________________________________________________________________________________________________\n",
      "conv4_block3_1_conv (Conv2D)    (None, 2, 2, 256)    262400      conv4_block2_out[0][0]           \n",
      "__________________________________________________________________________________________________\n",
      "conv4_block3_1_bn (BatchNormali (None, 2, 2, 256)    1024        conv4_block3_1_conv[0][0]        \n",
      "__________________________________________________________________________________________________\n",
      "conv4_block3_1_relu (Activation (None, 2, 2, 256)    0           conv4_block3_1_bn[0][0]          \n",
      "__________________________________________________________________________________________________\n",
      "conv4_block3_2_conv (Conv2D)    (None, 2, 2, 256)    590080      conv4_block3_1_relu[0][0]        \n",
      "__________________________________________________________________________________________________\n",
      "conv4_block3_2_bn (BatchNormali (None, 2, 2, 256)    1024        conv4_block3_2_conv[0][0]        \n",
      "__________________________________________________________________________________________________\n",
      "conv4_block3_2_relu (Activation (None, 2, 2, 256)    0           conv4_block3_2_bn[0][0]          \n",
      "__________________________________________________________________________________________________\n",
      "conv4_block3_3_conv (Conv2D)    (None, 2, 2, 1024)   263168      conv4_block3_2_relu[0][0]        \n",
      "__________________________________________________________________________________________________\n",
      "conv4_block3_3_bn (BatchNormali (None, 2, 2, 1024)   4096        conv4_block3_3_conv[0][0]        \n",
      "__________________________________________________________________________________________________\n",
      "conv4_block3_add (Add)          (None, 2, 2, 1024)   0           conv4_block2_out[0][0]           \n",
      "                                                                 conv4_block3_3_bn[0][0]          \n",
      "__________________________________________________________________________________________________\n",
      "conv4_block3_out (Activation)   (None, 2, 2, 1024)   0           conv4_block3_add[0][0]           \n",
      "__________________________________________________________________________________________________\n",
      "conv4_block4_1_conv (Conv2D)    (None, 2, 2, 256)    262400      conv4_block3_out[0][0]           \n",
      "__________________________________________________________________________________________________\n",
      "conv4_block4_1_bn (BatchNormali (None, 2, 2, 256)    1024        conv4_block4_1_conv[0][0]        \n",
      "__________________________________________________________________________________________________\n",
      "conv4_block4_1_relu (Activation (None, 2, 2, 256)    0           conv4_block4_1_bn[0][0]          \n",
      "__________________________________________________________________________________________________\n",
      "conv4_block4_2_conv (Conv2D)    (None, 2, 2, 256)    590080      conv4_block4_1_relu[0][0]        \n",
      "__________________________________________________________________________________________________\n",
      "conv4_block4_2_bn (BatchNormali (None, 2, 2, 256)    1024        conv4_block4_2_conv[0][0]        \n",
      "__________________________________________________________________________________________________\n",
      "conv4_block4_2_relu (Activation (None, 2, 2, 256)    0           conv4_block4_2_bn[0][0]          \n",
      "__________________________________________________________________________________________________\n",
      "conv4_block4_3_conv (Conv2D)    (None, 2, 2, 1024)   263168      conv4_block4_2_relu[0][0]        \n",
      "__________________________________________________________________________________________________\n",
      "conv4_block4_3_bn (BatchNormali (None, 2, 2, 1024)   4096        conv4_block4_3_conv[0][0]        \n",
      "__________________________________________________________________________________________________\n",
      "conv4_block4_add (Add)          (None, 2, 2, 1024)   0           conv4_block3_out[0][0]           \n",
      "                                                                 conv4_block4_3_bn[0][0]          \n",
      "__________________________________________________________________________________________________\n",
      "conv4_block4_out (Activation)   (None, 2, 2, 1024)   0           conv4_block4_add[0][0]           \n",
      "__________________________________________________________________________________________________\n",
      "conv4_block5_1_conv (Conv2D)    (None, 2, 2, 256)    262400      conv4_block4_out[0][0]           \n",
      "__________________________________________________________________________________________________\n",
      "conv4_block5_1_bn (BatchNormali (None, 2, 2, 256)    1024        conv4_block5_1_conv[0][0]        \n",
      "__________________________________________________________________________________________________\n",
      "conv4_block5_1_relu (Activation (None, 2, 2, 256)    0           conv4_block5_1_bn[0][0]          \n",
      "__________________________________________________________________________________________________\n",
      "conv4_block5_2_conv (Conv2D)    (None, 2, 2, 256)    590080      conv4_block5_1_relu[0][0]        \n",
      "__________________________________________________________________________________________________\n",
      "conv4_block5_2_bn (BatchNormali (None, 2, 2, 256)    1024        conv4_block5_2_conv[0][0]        \n",
      "__________________________________________________________________________________________________\n",
      "conv4_block5_2_relu (Activation (None, 2, 2, 256)    0           conv4_block5_2_bn[0][0]          \n",
      "__________________________________________________________________________________________________\n",
      "conv4_block5_3_conv (Conv2D)    (None, 2, 2, 1024)   263168      conv4_block5_2_relu[0][0]        \n",
      "__________________________________________________________________________________________________\n",
      "conv4_block5_3_bn (BatchNormali (None, 2, 2, 1024)   4096        conv4_block5_3_conv[0][0]        \n",
      "__________________________________________________________________________________________________\n",
      "conv4_block5_add (Add)          (None, 2, 2, 1024)   0           conv4_block4_out[0][0]           \n",
      "                                                                 conv4_block5_3_bn[0][0]          \n",
      "__________________________________________________________________________________________________\n",
      "conv4_block5_out (Activation)   (None, 2, 2, 1024)   0           conv4_block5_add[0][0]           \n",
      "__________________________________________________________________________________________________\n",
      "conv4_block6_1_conv (Conv2D)    (None, 2, 2, 256)    262400      conv4_block5_out[0][0]           \n",
      "__________________________________________________________________________________________________\n",
      "conv4_block6_1_bn (BatchNormali (None, 2, 2, 256)    1024        conv4_block6_1_conv[0][0]        \n",
      "__________________________________________________________________________________________________\n",
      "conv4_block6_1_relu (Activation (None, 2, 2, 256)    0           conv4_block6_1_bn[0][0]          \n",
      "__________________________________________________________________________________________________\n",
      "conv4_block6_2_conv (Conv2D)    (None, 2, 2, 256)    590080      conv4_block6_1_relu[0][0]        \n",
      "__________________________________________________________________________________________________\n",
      "conv4_block6_2_bn (BatchNormali (None, 2, 2, 256)    1024        conv4_block6_2_conv[0][0]        \n",
      "__________________________________________________________________________________________________\n",
      "conv4_block6_2_relu (Activation (None, 2, 2, 256)    0           conv4_block6_2_bn[0][0]          \n",
      "__________________________________________________________________________________________________\n",
      "conv4_block6_3_conv (Conv2D)    (None, 2, 2, 1024)   263168      conv4_block6_2_relu[0][0]        \n",
      "__________________________________________________________________________________________________\n",
      "conv4_block6_3_bn (BatchNormali (None, 2, 2, 1024)   4096        conv4_block6_3_conv[0][0]        \n",
      "__________________________________________________________________________________________________\n",
      "conv4_block6_add (Add)          (None, 2, 2, 1024)   0           conv4_block5_out[0][0]           \n",
      "                                                                 conv4_block6_3_bn[0][0]          \n",
      "__________________________________________________________________________________________________\n",
      "conv4_block6_out (Activation)   (None, 2, 2, 1024)   0           conv4_block6_add[0][0]           \n",
      "__________________________________________________________________________________________________\n",
      "conv5_block1_1_conv (Conv2D)    (None, 1, 1, 512)    524800      conv4_block6_out[0][0]           \n",
      "__________________________________________________________________________________________________\n",
      "conv5_block1_1_bn (BatchNormali (None, 1, 1, 512)    2048        conv5_block1_1_conv[0][0]        \n",
      "__________________________________________________________________________________________________\n",
      "conv5_block1_1_relu (Activation (None, 1, 1, 512)    0           conv5_block1_1_bn[0][0]          \n",
      "__________________________________________________________________________________________________\n",
      "conv5_block1_2_conv (Conv2D)    (None, 1, 1, 512)    2359808     conv5_block1_1_relu[0][0]        \n",
      "__________________________________________________________________________________________________\n",
      "conv5_block1_2_bn (BatchNormali (None, 1, 1, 512)    2048        conv5_block1_2_conv[0][0]        \n",
      "__________________________________________________________________________________________________\n",
      "conv5_block1_2_relu (Activation (None, 1, 1, 512)    0           conv5_block1_2_bn[0][0]          \n",
      "__________________________________________________________________________________________________\n",
      "conv5_block1_0_conv (Conv2D)    (None, 1, 1, 2048)   2099200     conv4_block6_out[0][0]           \n",
      "__________________________________________________________________________________________________\n",
      "conv5_block1_3_conv (Conv2D)    (None, 1, 1, 2048)   1050624     conv5_block1_2_relu[0][0]        \n",
      "__________________________________________________________________________________________________\n",
      "conv5_block1_0_bn (BatchNormali (None, 1, 1, 2048)   8192        conv5_block1_0_conv[0][0]        \n",
      "__________________________________________________________________________________________________\n",
      "conv5_block1_3_bn (BatchNormali (None, 1, 1, 2048)   8192        conv5_block1_3_conv[0][0]        \n",
      "__________________________________________________________________________________________________\n",
      "conv5_block1_add (Add)          (None, 1, 1, 2048)   0           conv5_block1_0_bn[0][0]          \n",
      "                                                                 conv5_block1_3_bn[0][0]          \n",
      "__________________________________________________________________________________________________\n",
      "conv5_block1_out (Activation)   (None, 1, 1, 2048)   0           conv5_block1_add[0][0]           \n",
      "__________________________________________________________________________________________________\n",
      "conv5_block2_1_conv (Conv2D)    (None, 1, 1, 512)    1049088     conv5_block1_out[0][0]           \n",
      "__________________________________________________________________________________________________\n",
      "conv5_block2_1_bn (BatchNormali (None, 1, 1, 512)    2048        conv5_block2_1_conv[0][0]        \n",
      "__________________________________________________________________________________________________\n",
      "conv5_block2_1_relu (Activation (None, 1, 1, 512)    0           conv5_block2_1_bn[0][0]          \n",
      "__________________________________________________________________________________________________\n",
      "conv5_block2_2_conv (Conv2D)    (None, 1, 1, 512)    2359808     conv5_block2_1_relu[0][0]        \n",
      "__________________________________________________________________________________________________\n",
      "conv5_block2_2_bn (BatchNormali (None, 1, 1, 512)    2048        conv5_block2_2_conv[0][0]        \n",
      "__________________________________________________________________________________________________\n",
      "conv5_block2_2_relu (Activation (None, 1, 1, 512)    0           conv5_block2_2_bn[0][0]          \n",
      "__________________________________________________________________________________________________\n",
      "conv5_block2_3_conv (Conv2D)    (None, 1, 1, 2048)   1050624     conv5_block2_2_relu[0][0]        \n",
      "__________________________________________________________________________________________________\n",
      "conv5_block2_3_bn (BatchNormali (None, 1, 1, 2048)   8192        conv5_block2_3_conv[0][0]        \n",
      "__________________________________________________________________________________________________\n",
      "conv5_block2_add (Add)          (None, 1, 1, 2048)   0           conv5_block1_out[0][0]           \n",
      "                                                                 conv5_block2_3_bn[0][0]          \n",
      "__________________________________________________________________________________________________\n",
      "conv5_block2_out (Activation)   (None, 1, 1, 2048)   0           conv5_block2_add[0][0]           \n",
      "__________________________________________________________________________________________________\n",
      "conv5_block3_1_conv (Conv2D)    (None, 1, 1, 512)    1049088     conv5_block2_out[0][0]           \n",
      "__________________________________________________________________________________________________\n",
      "conv5_block3_1_bn (BatchNormali (None, 1, 1, 512)    2048        conv5_block3_1_conv[0][0]        \n",
      "__________________________________________________________________________________________________\n",
      "conv5_block3_1_relu (Activation (None, 1, 1, 512)    0           conv5_block3_1_bn[0][0]          \n",
      "__________________________________________________________________________________________________\n",
      "conv5_block3_2_conv (Conv2D)    (None, 1, 1, 512)    2359808     conv5_block3_1_relu[0][0]        \n",
      "__________________________________________________________________________________________________\n",
      "conv5_block3_2_bn (BatchNormali (None, 1, 1, 512)    2048        conv5_block3_2_conv[0][0]        \n",
      "__________________________________________________________________________________________________\n",
      "conv5_block3_2_relu (Activation (None, 1, 1, 512)    0           conv5_block3_2_bn[0][0]          \n",
      "__________________________________________________________________________________________________\n",
      "conv5_block3_3_conv (Conv2D)    (None, 1, 1, 2048)   1050624     conv5_block3_2_relu[0][0]        \n",
      "__________________________________________________________________________________________________\n",
      "conv5_block3_3_bn (BatchNormali (None, 1, 1, 2048)   8192        conv5_block3_3_conv[0][0]        \n",
      "__________________________________________________________________________________________________\n",
      "conv5_block3_add (Add)          (None, 1, 1, 2048)   0           conv5_block2_out[0][0]           \n",
      "                                                                 conv5_block3_3_bn[0][0]          \n",
      "__________________________________________________________________________________________________\n",
      "conv5_block3_out (Activation)   (None, 1, 1, 2048)   0           conv5_block3_add[0][0]           \n",
      "==================================================================================================\n",
      "Total params: 23,587,712\n",
      "Trainable params: 23,534,592\n",
      "Non-trainable params: 53,120\n",
      "__________________________________________________________________________________________________\n",
      "<class 'keras.engine.keras_tensor.KerasTensor'>\n"
     ]
    }
   ],
   "source": [
    "base_model.summary()\n",
    "x = base_model.output\n",
    "print(type(x))"
   ]
  },
  {
   "cell_type": "markdown",
   "metadata": {
    "id": "OEeQ9WXTLA6i"
   },
   "source": [
    "Please do realize, this may be overkill for our toy recognition task. One could use this network with some layers (as we're about to add) to recognize 100 dog breeds or to recognize all your friends. If you wanted to recognize 100 dog breeds, you would use a final 100 neuron softmax for the final layer. We'll need a final softmax layer as before. First let's freeze all these pretrained weights. They are fine as they are."
   ]
  },
  {
   "cell_type": "code",
   "execution_count": 15,
   "metadata": {
    "id": "YTziRl8BK64Y"
   },
   "outputs": [],
   "source": [
    "# This freezes the weights of the pretrained model.\n",
    "for layer in base_model.layers:  \n",
    "    layer.trainable = False"
   ]
  },
  {
   "cell_type": "code",
   "execution_count": null,
   "metadata": {},
   "outputs": [],
   "source": [
    "\n",
    "\n"
   ]
  },
  {
   "cell_type": "code",
   "execution_count": 16,
   "metadata": {},
   "outputs": [
    {
     "name": "stdout",
     "output_type": "stream",
     "text": [
      "(60000, 10)\n",
      "(60000, 28, 28, 1)\n"
     ]
    }
   ],
   "source": [
    "print(y_enc.shape)\n",
    "print(x_train.shape)\n"
   ]
  },
  {
   "cell_type": "markdown",
   "metadata": {
    "id": "HhTrIRPbLMCB"
   },
   "source": [
    "### Part A) Building and Compiling the Model (10pt)\n",
    "Now let's just add a flatten layer, a trainable dense layer, and a final softmax layer to the network to complete the classifier model for our gesture recognition task. Use Keras' functional approach to building a network.\n",
    "\n",
    "Hint: read about `keras.layers.GlobalAveragePooling2D()` for flattening layer. \n",
    "\n",
    "Then compile the model using an appropriate loss function and optimizer."
   ]
  },
  {
   "cell_type": "code",
   "execution_count": 17,
   "metadata": {},
   "outputs": [
    {
     "name": "stdout",
     "output_type": "stream",
     "text": [
      "<class 'keras.engine.keras_tensor.KerasTensor'>\n",
      "<class 'keras.engine.keras_tensor.KerasTensor'>\n",
      "DONE\n",
      "Model: \"model\"\n",
      "__________________________________________________________________________________________________\n",
      "Layer (type)                    Output Shape         Param #     Connected to                     \n",
      "==================================================================================================\n",
      "Total params: 25,646,722\n",
      "Trainable params: 2,059,010\n",
      "Non-trainable params: 23,587,712\n",
      "__________________________________________________________________________________________________\n"
     ]
    }
   ],
   "source": [
    "### YOUR CODE HERE ###\n",
    "\n",
    "x = base_model.output\n",
    "print(type(x))\n",
    "x = GlobalAveragePooling2D()(x)\n",
    "print(type(x))\n",
    "x = Dense(1000)(x)\n",
    "out = Dense(10,activation='softmax')(x)\n",
    "model_final = Model(base_model.input,out)\n",
    "print(\"DONE\")\n",
    "model_final.summary()"
   ]
  },
  {
   "cell_type": "markdown",
   "metadata": {
    "id": "bUWfx4vYtblN"
   },
   "source": [
    "### Part B) Training the Model (5pt)\n",
    "\n",
    "Train your new network, including any hyperparameter tuning. Plot the training curve of your best model only.\n",
    "\n",
    "As you can see here in the Keras docs:\n",
    "\n",
    "https://keras.io/api/applications/resnet/#resnet50-function\n",
    "\n",
    "The pretrained ResNet50 has restaint on the input dimension to be at least (32, 32, 3). We will have to add padding around the mnist data to make it go from (28, 28, 1) to (32,32, 3)\n",
    "\n",
    "Hint: read on `numpy.pad`, `numpy.stack`, and numpy array `reshape` function for adding padding. "
   ]
  },
  {
   "cell_type": "code",
   "execution_count": 18,
   "metadata": {
    "id": "MX8s_zv6qM9G"
   },
   "outputs": [
    {
     "name": "stdout",
     "output_type": "stream",
     "text": [
      "(60000, 28, 28, 1)\n",
      "(60000, 28, 28, 1)\n",
      "(60000, 32, 32, 3)\n",
      "(10000, 28, 28)\n",
      "(10000, 32, 32, 3)\n"
     ]
    }
   ],
   "source": [
    "# Preprocess your input image data, add padding, and 3 color channels\n",
    "### YOUR CODE HERE ###\n",
    "print(x_train.shape)\n",
    "x_train = x_train.reshape((x_train.shape[0], x_train.shape[1], x_train.shape[2],1))\n",
    "print(x_train.shape)\n",
    "npad = ((0, 0), (2, 2), (2, 2), (1,1))\n",
    "x_train = np.pad(x_train, pad_width=npad, mode='constant', constant_values=0)\n",
    "print(x_train.shape)\n",
    "print(x_test.shape)\n",
    "x_test = x_test.reshape((x_test.shape[0], x_test.shape[1], x_test.shape[2],1))\n",
    "x_test = np.pad(x_test, pad_width=npad, mode='constant', constant_values=0)\n",
    "print(x_test.shape)\n"
   ]
  },
  {
   "cell_type": "code",
   "execution_count": 19,
   "metadata": {
    "id": "m9U0HITqLl-7"
   },
   "outputs": [
    {
     "name": "stdout",
     "output_type": "stream",
     "text": [
      "[0. 0. 0. 0. 0. 1. 0. 0. 0. 0.]\n",
      "Epoch 1/6\n",
      "94/94 [==============================] - 112s 1s/step - loss: 2.2860 - accuracy: 0.4938 - val_loss: 0.9428 - val_accuracy: 0.7612\n",
      "Epoch 2/6\n",
      "94/94 [==============================] - 94s 998ms/step - loss: 0.8213 - accuracy: 0.7732 - val_loss: 0.6651 - val_accuracy: 0.8159\n",
      "Epoch 3/6\n",
      "94/94 [==============================] - 90s 964ms/step - loss: 0.6221 - accuracy: 0.8210 - val_loss: 0.5013 - val_accuracy: 0.8657\n",
      "Epoch 4/6\n",
      "94/94 [==============================] - 96s 1s/step - loss: 0.5303 - accuracy: 0.8423 - val_loss: 0.4522 - val_accuracy: 0.8680\n",
      "Epoch 5/6\n",
      "94/94 [==============================] - 97s 1s/step - loss: 0.4703 - accuracy: 0.8569 - val_loss: 0.4040 - val_accuracy: 0.8785\n",
      "Epoch 6/6\n",
      "94/94 [==============================] - 94s 1s/step - loss: 0.4447 - accuracy: 0.8601 - val_loss: 0.4048 - val_accuracy: 0.8757\n",
      "done\n"
     ]
    }
   ],
   "source": [
    "# Train the model\n",
    "print(y_enc[0])\n",
    "### YOUR CODE HERE ###\n",
    "model_final.compile(loss='categorical_crossentropy', optimizer = 'adam',\n",
    "              metrics=['accuracy'])\n",
    "hist = model_final.fit(x_train, y_enc,\n",
    "                    epochs = 6, \n",
    "                   batch_size = 512,\n",
    "                    validation_split = 0.2,\n",
    "                    verbose = 1)\n",
    "\n",
    "\n",
    "print(\"done\")"
   ]
  },
  {
   "cell_type": "code",
   "execution_count": 20,
   "metadata": {
    "id": "cyezuk-2M1Gq"
   },
   "outputs": [
    {
     "data": {
      "image/png": "[encoded data removed]",
      "text/plain": [
       "<Figure size 432x288 with 1 Axes>"
      ]
     },
     "metadata": {
      "needs_background": "light"
     },
     "output_type": "display_data"
    },
    {
     "data": {
      "image/png": "[encoded data removed]",
      "text/plain": [
       "<Figure size 432x288 with 1 Axes>"
      ]
     },
     "metadata": {
      "needs_background": "light"
     },
     "output_type": "display_data"
    }
   ],
   "source": [
    "# Plot the training curve\n",
    "### YOUR CODE HERE \n",
    "plot_losses(hist)\n",
    "plot_accuracies(hist)"
   ]
  },
  {
   "cell_type": "markdown",
   "metadata": {
    "id": "1Y8v3jO4jIMU"
   },
   "source": [
    "### Part C) Try things on your own (5pt)\n",
    "\n",
    "You can do the following: \n",
    "\n",
    "Use a diffferent pre-trained model from keras other than ResNet50. It took about 3 minutes per epoch for me to do transfer learning on ResNet50, maybe you want to use a smaller model for faster results and training time, maybe you want to use a larger model because you have good hardware, e.g. GPU. \n",
    "\n",
    "Or you can change the last layers after the pretrained model. You can increase (or decrease) the number of nodes per layer, increase (or decrease) the number of layers, and add dropout if your model is overfitting, change the hyperparameters, change your optimizer, etc. \n",
    "\n",
    "Try to get the validation accuracy higher than what the previous transfer learning model was able to obtain, and try to minimize the amount of overfitting.\n",
    "\n",
    "Plot the classification accuracy for each epoch. Report the best test accuracy your model was able to achieve."
   ]
  },
  {
   "cell_type": "code",
   "execution_count": 21,
   "metadata": {
    "id": "rXDiG-cdgsyZ"
   },
   "outputs": [],
   "source": [
    "# Import the ResNet50 trained neural network model, minus it's last (top) neuron layer.\n",
    "base_model = ResNet50(weights = 'imagenet', \n",
    "                   include_top = False, \n",
    "                   input_shape = (32, 32, 3), \n",
    "                   pooling = None)\n",
    "# This freezes the weights of the pretrained model.\n",
    "for layer in base_model.layers:  \n",
    "    layer.trainable = False"
   ]
  },
  {
   "cell_type": "markdown",
   "metadata": {
    "id": "oPZB5dK0DXIF"
   },
   "source": [
    "[YOUR ANSWER HERE]"
   ]
  },
  {
   "cell_type": "code",
   "execution_count": 22,
   "metadata": {},
   "outputs": [
    {
     "name": "stdout",
     "output_type": "stream",
     "text": [
      "<class 'keras.engine.keras_tensor.KerasTensor'>\n",
      "(None, 1024)\n",
      "Model: \"model_1\"\n",
      "__________________________________________________________________________________________________\n",
      "Layer (type)                    Output Shape         Param #     Connected to                     \n",
      "==================================================================================================\n",
      "Total params: 27,803,530\n",
      "Trainable params: 4,211,722\n",
      "Non-trainable params: 23,591,808\n",
      "__________________________________________________________________________________________________\n",
      "DONE\n"
     ]
    }
   ],
   "source": [
    "### YOUR CODE HERE ###\n",
    "from keras.layers import Conv1D\n",
    "\n",
    "x = base_model.output\n",
    "print(type(x))\n",
    "x = GlobalAveragePooling2D()(x)\n",
    "#print(type(x))\n",
    "#x = Dense(10, 'relu')(x)\n",
    "#out = Dense(10,activation='softmax')(x)\n",
    "#model_final = Model(base_model.input,out)\n",
    "#model_final.summary()\n",
    "\n",
    "                           \n",
    "           \n",
    "x = Dense(units = 1024,  activation = 'relu')(x)                 \n",
    "x = BatchNormalization()(x) \n",
    "print(x.get_shape())\n",
    "#model.add(Conv1D(32, 1, input_shape=128)) # 32 different 3x3 kernels -- so 32 feature maps\n",
    "\n",
    "#input_shape_conv = (4, 10, 128)\n",
    "x = Dense(units = 1024, activation = 'relu')(x)\n",
    "x = BatchNormalization()(x) \n",
    "\n",
    "#x = tf.keras.layers.Conv1D(3, 3, activation='relu', input_shape = input_shape_conv)(x)\n",
    "x = Dense(units = 1024, activation = 'linear')(x)\n",
    "out = Dense(10,activation='softmax')(x)\n",
    "model_final = Model(base_model.input,out)\n",
    "model_final.summary()\n",
    "print(\"DONE\")\n",
    "#Total params: 23,616,394\n",
    "#Trainable params: 23,559,178\n",
    "#Non-trainable params: 57,216"
   ]
  },
  {
   "cell_type": "code",
   "execution_count": 24,
   "metadata": {},
   "outputs": [
    {
     "name": "stdout",
     "output_type": "stream",
     "text": [
      "Epoch 1/6\n",
      "94/94 [==============================] - 146s 1s/step - loss: 0.4077 - accuracy: 0.8657 - val_loss: 0.3218 - val_accuracy: 0.8982\n",
      "Epoch 2/6\n",
      "94/94 [==============================] - 130s 1s/step - loss: 0.3542 - accuracy: 0.8821 - val_loss: 0.3229 - val_accuracy: 0.8898\n",
      "Epoch 3/6\n",
      "94/94 [==============================] - 137s 1s/step - loss: 0.3291 - accuracy: 0.8905 - val_loss: 0.2862 - val_accuracy: 0.9082\n",
      "Epoch 4/6\n",
      "94/94 [==============================] - 127s 1s/step - loss: 0.3127 - accuracy: 0.8959 - val_loss: 0.3003 - val_accuracy: 0.9002\n",
      "Epoch 5/6\n",
      "94/94 [==============================] - 126s 1s/step - loss: 0.3078 - accuracy: 0.8980 - val_loss: 0.2796 - val_accuracy: 0.9094\n",
      "Epoch 6/6\n",
      "94/94 [==============================] - 133s 1s/step - loss: 0.2881 - accuracy: 0.9038 - val_loss: 0.2666 - val_accuracy: 0.9127\n",
      "done\n"
     ]
    }
   ],
   "source": [
    "### YOUR CODE HERE ###\n",
    "model_final.compile(loss='categorical_crossentropy', optimizer = 'adam',\n",
    "              metrics=['accuracy'])\n",
    "hist = model_final.fit(x_train, y_enc,\n",
    "                    epochs = 6, \n",
    "                   batch_size = 512,\n",
    "                    validation_split = 0.2,\n",
    "                    verbose = 1)\n",
    "\n",
    "\n",
    "print(\"done\")"
   ]
  },
  {
   "cell_type": "code",
   "execution_count": 25,
   "metadata": {},
   "outputs": [
    {
     "name": "stdout",
     "output_type": "stream",
     "text": [
      "<tensorflow.python.keras.callbacks.History object at 0x000001A9B34DEE20>\n",
      "[[2.5578483e-05 4.4612668e-04 2.1450002e-02 2.7846554e-01 4.0081696e-04\n",
      "  6.8923610e-01 5.4475974e-04 4.1876123e-03 4.3493416e-03 8.9403568e-04]\n",
      " [9.9728644e-01 3.7596724e-08 4.1602054e-04 7.8961690e-05 9.6052156e-07\n",
      "  1.7896114e-04 9.5175979e-05 4.0654077e-06 1.1395544e-03 7.9987460e-04]\n",
      " [8.1341909e-08 2.3982173e-03 2.5882304e-05 6.1184551e-07 9.7980899e-01\n",
      "  1.6253595e-07 1.0483243e-06 1.7726498e-02 1.5434908e-07 3.8235041e-05]\n",
      " [2.1016505e-05 9.9903935e-01 1.0109360e-06 1.3250135e-06 4.0201546e-04\n",
      "  1.4916087e-05 9.4695897e-05 3.2366556e-04 9.8346190e-06 9.2113783e-05]\n",
      " [2.4501968e-04 3.0091824e-05 3.8924409e-05 6.6339759e-05 6.9845289e-02\n",
      "  7.9661324e-05 8.4431638e-05 1.4169917e-03 3.3653917e-04 9.2785662e-01]\n",
      " [5.8866879e-03 2.6951605e-04 8.5468721e-01 8.1981607e-02 5.4566568e-04\n",
      "  3.4660336e-03 1.7447592e-04 1.0997360e-03 3.2291953e-02 1.9597223e-02]\n",
      " [4.7357574e-07 9.9965477e-01 6.4289515e-07 2.4975487e-04 8.2271899e-06\n",
      "  2.9153267e-05 3.6202102e-06 1.6810731e-05 3.3611024e-05 2.8641582e-06]\n",
      " [8.4902399e-07 7.4935895e-07 1.7054259e-05 9.9964058e-01 6.1876207e-08\n",
      "  2.8106579e-04 1.4456095e-08 2.4346448e-06 5.3150688e-05 4.0035911e-06]\n",
      " [3.8110990e-08 9.9988985e-01 6.4635508e-08 6.0401790e-06 1.5558651e-05\n",
      "  2.6949161e-07 1.1913537e-06 6.1591134e-05 3.4352875e-06 2.2078742e-05]\n",
      " [4.3607157e-05 9.3537144e-04 2.0907813e-04 3.2768182e-06 9.9215889e-01\n",
      "  7.7030425e-05 7.6516235e-04 5.1611825e-03 2.5969015e-05 6.2034652e-04]]\n"
     ]
    }
   ],
   "source": [
    "plot_losses(hist)\n",
    "plot_accuracies(hist)"
   ]
  },
  {
   "cell_type": "code",
   "execution_count": null,
   "metadata": {},
   "outputs": [],
   "source": []
  },
  {
   "cell_type": "code",
   "execution_count": null,
   "metadata": {},
   "outputs": [],
   "source": []
  },
  {
   "cell_type": "code",
   "execution_count": null,
   "metadata": {},
   "outputs": [],
   "source": []
  }
 ],
 "metadata": {
  "colab": {
   "name": "Copy of Assignment 4.ipynb",
   "provenance": [],
   "toc_visible": true
  },
  "kernelspec": {
   "display_name": "Python 3",
   "language": "python",
   "name": "python3"
  },
  "language_info": {
   "codemirror_mode": {
    "name": "ipython",
    "version": 3
   },
   "file_extension": ".py",
   "mimetype": "text/x-python",
   "name": "python",
   "nbconvert_exporter": "python",
   "pygments_lexer": "ipython3",
   "version": "3.8.5"
  }
 },
 "nbformat": 4,
 "nbformat_minor": 1
}
